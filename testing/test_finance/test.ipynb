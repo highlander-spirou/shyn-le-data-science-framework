{
 "cells": [
  {
   "cell_type": "code",
   "execution_count": 1,
   "metadata": {},
   "outputs": [],
   "source": [
    "import pickle \n",
    "import matplotlib.pyplot as plt\n",
    "\n",
    "from plots.finance import *\n",
    "from plots.finance.logy_graph import LogYGraph, SeabornFn\n",
    "from plots.finance.distribution_report import *\n",
    "from plots.finance.risk_return_report import Risk_Return_Ratio_Report, TwoVariablePortfolioReport\n",
    "from plots.finance.percentile_comparision import *\n",
    "from plots.finance.efficient_frontier import DrawEfficientFrontier\n",
    "\n",
    "from scientific.finance import expected_shortfall\n",
    "from scientific.finance.efficient_frontier import SimulateEfficientFrontier"
   ]
  },
  {
   "cell_type": "markdown",
   "metadata": {},
   "source": [
    "### test plotly candle stick"
   ]
  },
  {
   "cell_type": "code",
   "execution_count": 2,
   "metadata": {},
   "outputs": [
    {
     "data": {
      "text/html": [
       "<div>\n",
       "<style scoped>\n",
       "    .dataframe tbody tr th:only-of-type {\n",
       "        vertical-align: middle;\n",
       "    }\n",
       "\n",
       "    .dataframe tbody tr th {\n",
       "        vertical-align: top;\n",
       "    }\n",
       "\n",
       "    .dataframe thead th {\n",
       "        text-align: right;\n",
       "    }\n",
       "</style>\n",
       "<table border=\"1\" class=\"dataframe\">\n",
       "  <thead>\n",
       "    <tr style=\"text-align: right;\">\n",
       "      <th></th>\n",
       "      <th>date</th>\n",
       "      <th>open</th>\n",
       "      <th>high</th>\n",
       "      <th>low</th>\n",
       "      <th>close</th>\n",
       "      <th>volume</th>\n",
       "    </tr>\n",
       "  </thead>\n",
       "  <tbody>\n",
       "    <tr>\n",
       "      <th>0</th>\n",
       "      <td>2014-09-17</td>\n",
       "      <td>1999.300049</td>\n",
       "      <td>2010.739990</td>\n",
       "      <td>1993.290039</td>\n",
       "      <td>2001.569946</td>\n",
       "      <td>3209420000</td>\n",
       "    </tr>\n",
       "    <tr>\n",
       "      <th>1</th>\n",
       "      <td>2014-09-18</td>\n",
       "      <td>2003.069946</td>\n",
       "      <td>2012.339966</td>\n",
       "      <td>2003.069946</td>\n",
       "      <td>2011.359985</td>\n",
       "      <td>3235340000</td>\n",
       "    </tr>\n",
       "    <tr>\n",
       "      <th>2</th>\n",
       "      <td>2014-09-19</td>\n",
       "      <td>2012.739990</td>\n",
       "      <td>2019.260010</td>\n",
       "      <td>2006.589966</td>\n",
       "      <td>2010.400024</td>\n",
       "      <td>4880220000</td>\n",
       "    </tr>\n",
       "  </tbody>\n",
       "</table>\n",
       "</div>"
      ],
      "text/plain": [
       "        date         open         high          low        close      volume\n",
       "0 2014-09-17  1999.300049  2010.739990  1993.290039  2001.569946  3209420000\n",
       "1 2014-09-18  2003.069946  2012.339966  2003.069946  2011.359985  3235340000\n",
       "2 2014-09-19  2012.739990  2019.260010  2006.589966  2010.400024  4880220000"
      ]
     },
     "execution_count": 2,
     "metadata": {},
     "output_type": "execute_result"
    }
   ],
   "source": [
    "with open('sp500.pickle', 'rb') as f:\n",
    "    sp500 = pickle.load(f)\n",
    "    \n",
    "sp500.head(3)"
   ]
  },
  {
   "cell_type": "code",
   "execution_count": 3,
   "metadata": {},
   "outputs": [
    {
     "data": {
      "application/vnd.plotly.v1+json": {
       "config": {
        "plotlyServerURL": "https://plot.ly"
       },
       "data": [
        {
         "close": [
          2001.5699462890625,
          2011.3599853515625,
          2010.4000244140625,
          1994.2900390625,
          1982.77001953125,
          1998.300048828125,
          1965.989990234375,
          1982.8499755859373,
          1977.800048828125,
          1972.2900390625,
          1946.1600341796875,
          1946.1700439453125,
          1967.9000244140625,
          1964.8199462890625,
          1935.0999755859373,
          1968.8900146484373,
          1928.2099609375,
          1906.1300048828125,
          1874.739990234375,
          1877.699951171875
         ],
         "high": [
          2010.739990234375,
          2012.3399658203125,
          2019.260009765625,
          2009.0799560546875,
          1995.4100341796875,
          1999.7900390625,
          1997.3199462890625,
          1986.3699951171875,
          1981.280029296875,
          1985.1700439453125,
          1971.43994140625,
          1952.3199462890625,
          1971.18994140625,
          1977.8399658203125,
          1962.3599853515625,
          1970.3599853515625,
          1967.6800537109373,
          1936.97998046875,
          1912.0899658203125,
          1898.7099609375
         ],
         "low": [
          1993.2900390625,
          2003.0699462890625,
          2006.5899658203125,
          1991.010009765625,
          1982.77001953125,
          1978.6300048828125,
          1965.989990234375,
          1966.219970703125,
          1964.0400390625,
          1968.9599609375,
          1941.719970703125,
          1926.030029296875,
          1948.1199951171875,
          1958.4300537109373,
          1934.8699951171875,
          1925.25,
          1927.56005859375,
          1906.050048828125,
          1874.1400146484373,
          1871.7900390625
         ],
         "open": [
          1999.300048828125,
          2003.0699462890625,
          2012.739990234375,
          2009.0799560546875,
          1992.780029296875,
          1983.3399658203125,
          1997.3199462890625,
          1966.219970703125,
          1978.9599609375,
          1978.2099609375,
          1971.43994140625,
          1945.8299560546875,
          1948.1199951171875,
          1970.010009765625,
          1962.3599853515625,
          1935.550048828125,
          1967.6800537109373,
          1925.6300048828125,
          1905.6500244140625,
          1877.1099853515625
         ],
         "type": "candlestick",
         "x": [
          "2014-09-17T00:00:00",
          "2014-09-18T00:00:00",
          "2014-09-19T00:00:00",
          "2014-09-22T00:00:00",
          "2014-09-23T00:00:00",
          "2014-09-24T00:00:00",
          "2014-09-25T00:00:00",
          "2014-09-26T00:00:00",
          "2014-09-29T00:00:00",
          "2014-09-30T00:00:00",
          "2014-10-01T00:00:00",
          "2014-10-02T00:00:00",
          "2014-10-03T00:00:00",
          "2014-10-06T00:00:00",
          "2014-10-07T00:00:00",
          "2014-10-08T00:00:00",
          "2014-10-09T00:00:00",
          "2014-10-10T00:00:00",
          "2014-10-13T00:00:00",
          "2014-10-14T00:00:00"
         ]
        }
       ],
       "layout": {
        "template": {
         "data": {
          "bar": [
           {
            "error_x": {
             "color": "#2a3f5f"
            },
            "error_y": {
             "color": "#2a3f5f"
            },
            "marker": {
             "line": {
              "color": "#E5ECF6",
              "width": 0.5
             },
             "pattern": {
              "fillmode": "overlay",
              "size": 10,
              "solidity": 0.2
             }
            },
            "type": "bar"
           }
          ],
          "barpolar": [
           {
            "marker": {
             "line": {
              "color": "#E5ECF6",
              "width": 0.5
             },
             "pattern": {
              "fillmode": "overlay",
              "size": 10,
              "solidity": 0.2
             }
            },
            "type": "barpolar"
           }
          ],
          "carpet": [
           {
            "aaxis": {
             "endlinecolor": "#2a3f5f",
             "gridcolor": "white",
             "linecolor": "white",
             "minorgridcolor": "white",
             "startlinecolor": "#2a3f5f"
            },
            "baxis": {
             "endlinecolor": "#2a3f5f",
             "gridcolor": "white",
             "linecolor": "white",
             "minorgridcolor": "white",
             "startlinecolor": "#2a3f5f"
            },
            "type": "carpet"
           }
          ],
          "choropleth": [
           {
            "colorbar": {
             "outlinewidth": 0,
             "ticks": ""
            },
            "type": "choropleth"
           }
          ],
          "contour": [
           {
            "colorbar": {
             "outlinewidth": 0,
             "ticks": ""
            },
            "colorscale": [
             [
              0,
              "#0d0887"
             ],
             [
              0.1111111111111111,
              "#46039f"
             ],
             [
              0.2222222222222222,
              "#7201a8"
             ],
             [
              0.3333333333333333,
              "#9c179e"
             ],
             [
              0.4444444444444444,
              "#bd3786"
             ],
             [
              0.5555555555555556,
              "#d8576b"
             ],
             [
              0.6666666666666666,
              "#ed7953"
             ],
             [
              0.7777777777777778,
              "#fb9f3a"
             ],
             [
              0.8888888888888888,
              "#fdca26"
             ],
             [
              1,
              "#f0f921"
             ]
            ],
            "type": "contour"
           }
          ],
          "contourcarpet": [
           {
            "colorbar": {
             "outlinewidth": 0,
             "ticks": ""
            },
            "type": "contourcarpet"
           }
          ],
          "heatmap": [
           {
            "colorbar": {
             "outlinewidth": 0,
             "ticks": ""
            },
            "colorscale": [
             [
              0,
              "#0d0887"
             ],
             [
              0.1111111111111111,
              "#46039f"
             ],
             [
              0.2222222222222222,
              "#7201a8"
             ],
             [
              0.3333333333333333,
              "#9c179e"
             ],
             [
              0.4444444444444444,
              "#bd3786"
             ],
             [
              0.5555555555555556,
              "#d8576b"
             ],
             [
              0.6666666666666666,
              "#ed7953"
             ],
             [
              0.7777777777777778,
              "#fb9f3a"
             ],
             [
              0.8888888888888888,
              "#fdca26"
             ],
             [
              1,
              "#f0f921"
             ]
            ],
            "type": "heatmap"
           }
          ],
          "heatmapgl": [
           {
            "colorbar": {
             "outlinewidth": 0,
             "ticks": ""
            },
            "colorscale": [
             [
              0,
              "#0d0887"
             ],
             [
              0.1111111111111111,
              "#46039f"
             ],
             [
              0.2222222222222222,
              "#7201a8"
             ],
             [
              0.3333333333333333,
              "#9c179e"
             ],
             [
              0.4444444444444444,
              "#bd3786"
             ],
             [
              0.5555555555555556,
              "#d8576b"
             ],
             [
              0.6666666666666666,
              "#ed7953"
             ],
             [
              0.7777777777777778,
              "#fb9f3a"
             ],
             [
              0.8888888888888888,
              "#fdca26"
             ],
             [
              1,
              "#f0f921"
             ]
            ],
            "type": "heatmapgl"
           }
          ],
          "histogram": [
           {
            "marker": {
             "pattern": {
              "fillmode": "overlay",
              "size": 10,
              "solidity": 0.2
             }
            },
            "type": "histogram"
           }
          ],
          "histogram2d": [
           {
            "colorbar": {
             "outlinewidth": 0,
             "ticks": ""
            },
            "colorscale": [
             [
              0,
              "#0d0887"
             ],
             [
              0.1111111111111111,
              "#46039f"
             ],
             [
              0.2222222222222222,
              "#7201a8"
             ],
             [
              0.3333333333333333,
              "#9c179e"
             ],
             [
              0.4444444444444444,
              "#bd3786"
             ],
             [
              0.5555555555555556,
              "#d8576b"
             ],
             [
              0.6666666666666666,
              "#ed7953"
             ],
             [
              0.7777777777777778,
              "#fb9f3a"
             ],
             [
              0.8888888888888888,
              "#fdca26"
             ],
             [
              1,
              "#f0f921"
             ]
            ],
            "type": "histogram2d"
           }
          ],
          "histogram2dcontour": [
           {
            "colorbar": {
             "outlinewidth": 0,
             "ticks": ""
            },
            "colorscale": [
             [
              0,
              "#0d0887"
             ],
             [
              0.1111111111111111,
              "#46039f"
             ],
             [
              0.2222222222222222,
              "#7201a8"
             ],
             [
              0.3333333333333333,
              "#9c179e"
             ],
             [
              0.4444444444444444,
              "#bd3786"
             ],
             [
              0.5555555555555556,
              "#d8576b"
             ],
             [
              0.6666666666666666,
              "#ed7953"
             ],
             [
              0.7777777777777778,
              "#fb9f3a"
             ],
             [
              0.8888888888888888,
              "#fdca26"
             ],
             [
              1,
              "#f0f921"
             ]
            ],
            "type": "histogram2dcontour"
           }
          ],
          "mesh3d": [
           {
            "colorbar": {
             "outlinewidth": 0,
             "ticks": ""
            },
            "type": "mesh3d"
           }
          ],
          "parcoords": [
           {
            "line": {
             "colorbar": {
              "outlinewidth": 0,
              "ticks": ""
             }
            },
            "type": "parcoords"
           }
          ],
          "pie": [
           {
            "automargin": true,
            "type": "pie"
           }
          ],
          "scatter": [
           {
            "fillpattern": {
             "fillmode": "overlay",
             "size": 10,
             "solidity": 0.2
            },
            "type": "scatter"
           }
          ],
          "scatter3d": [
           {
            "line": {
             "colorbar": {
              "outlinewidth": 0,
              "ticks": ""
             }
            },
            "marker": {
             "colorbar": {
              "outlinewidth": 0,
              "ticks": ""
             }
            },
            "type": "scatter3d"
           }
          ],
          "scattercarpet": [
           {
            "marker": {
             "colorbar": {
              "outlinewidth": 0,
              "ticks": ""
             }
            },
            "type": "scattercarpet"
           }
          ],
          "scattergeo": [
           {
            "marker": {
             "colorbar": {
              "outlinewidth": 0,
              "ticks": ""
             }
            },
            "type": "scattergeo"
           }
          ],
          "scattergl": [
           {
            "marker": {
             "colorbar": {
              "outlinewidth": 0,
              "ticks": ""
             }
            },
            "type": "scattergl"
           }
          ],
          "scattermapbox": [
           {
            "marker": {
             "colorbar": {
              "outlinewidth": 0,
              "ticks": ""
             }
            },
            "type": "scattermapbox"
           }
          ],
          "scatterpolar": [
           {
            "marker": {
             "colorbar": {
              "outlinewidth": 0,
              "ticks": ""
             }
            },
            "type": "scatterpolar"
           }
          ],
          "scatterpolargl": [
           {
            "marker": {
             "colorbar": {
              "outlinewidth": 0,
              "ticks": ""
             }
            },
            "type": "scatterpolargl"
           }
          ],
          "scatterternary": [
           {
            "marker": {
             "colorbar": {
              "outlinewidth": 0,
              "ticks": ""
             }
            },
            "type": "scatterternary"
           }
          ],
          "surface": [
           {
            "colorbar": {
             "outlinewidth": 0,
             "ticks": ""
            },
            "colorscale": [
             [
              0,
              "#0d0887"
             ],
             [
              0.1111111111111111,
              "#46039f"
             ],
             [
              0.2222222222222222,
              "#7201a8"
             ],
             [
              0.3333333333333333,
              "#9c179e"
             ],
             [
              0.4444444444444444,
              "#bd3786"
             ],
             [
              0.5555555555555556,
              "#d8576b"
             ],
             [
              0.6666666666666666,
              "#ed7953"
             ],
             [
              0.7777777777777778,
              "#fb9f3a"
             ],
             [
              0.8888888888888888,
              "#fdca26"
             ],
             [
              1,
              "#f0f921"
             ]
            ],
            "type": "surface"
           }
          ],
          "table": [
           {
            "cells": {
             "fill": {
              "color": "#EBF0F8"
             },
             "line": {
              "color": "white"
             }
            },
            "header": {
             "fill": {
              "color": "#C8D4E3"
             },
             "line": {
              "color": "white"
             }
            },
            "type": "table"
           }
          ]
         },
         "layout": {
          "annotationdefaults": {
           "arrowcolor": "#2a3f5f",
           "arrowhead": 0,
           "arrowwidth": 1
          },
          "autotypenumbers": "strict",
          "coloraxis": {
           "colorbar": {
            "outlinewidth": 0,
            "ticks": ""
           }
          },
          "colorscale": {
           "diverging": [
            [
             0,
             "#8e0152"
            ],
            [
             0.1,
             "#c51b7d"
            ],
            [
             0.2,
             "#de77ae"
            ],
            [
             0.3,
             "#f1b6da"
            ],
            [
             0.4,
             "#fde0ef"
            ],
            [
             0.5,
             "#f7f7f7"
            ],
            [
             0.6,
             "#e6f5d0"
            ],
            [
             0.7,
             "#b8e186"
            ],
            [
             0.8,
             "#7fbc41"
            ],
            [
             0.9,
             "#4d9221"
            ],
            [
             1,
             "#276419"
            ]
           ],
           "sequential": [
            [
             0,
             "#0d0887"
            ],
            [
             0.1111111111111111,
             "#46039f"
            ],
            [
             0.2222222222222222,
             "#7201a8"
            ],
            [
             0.3333333333333333,
             "#9c179e"
            ],
            [
             0.4444444444444444,
             "#bd3786"
            ],
            [
             0.5555555555555556,
             "#d8576b"
            ],
            [
             0.6666666666666666,
             "#ed7953"
            ],
            [
             0.7777777777777778,
             "#fb9f3a"
            ],
            [
             0.8888888888888888,
             "#fdca26"
            ],
            [
             1,
             "#f0f921"
            ]
           ],
           "sequentialminus": [
            [
             0,
             "#0d0887"
            ],
            [
             0.1111111111111111,
             "#46039f"
            ],
            [
             0.2222222222222222,
             "#7201a8"
            ],
            [
             0.3333333333333333,
             "#9c179e"
            ],
            [
             0.4444444444444444,
             "#bd3786"
            ],
            [
             0.5555555555555556,
             "#d8576b"
            ],
            [
             0.6666666666666666,
             "#ed7953"
            ],
            [
             0.7777777777777778,
             "#fb9f3a"
            ],
            [
             0.8888888888888888,
             "#fdca26"
            ],
            [
             1,
             "#f0f921"
            ]
           ]
          },
          "colorway": [
           "#636efa",
           "#EF553B",
           "#00cc96",
           "#ab63fa",
           "#FFA15A",
           "#19d3f3",
           "#FF6692",
           "#B6E880",
           "#FF97FF",
           "#FECB52"
          ],
          "font": {
           "color": "#2a3f5f"
          },
          "geo": {
           "bgcolor": "white",
           "lakecolor": "white",
           "landcolor": "#E5ECF6",
           "showlakes": true,
           "showland": true,
           "subunitcolor": "white"
          },
          "hoverlabel": {
           "align": "left"
          },
          "hovermode": "closest",
          "mapbox": {
           "style": "light"
          },
          "paper_bgcolor": "white",
          "plot_bgcolor": "#E5ECF6",
          "polar": {
           "angularaxis": {
            "gridcolor": "white",
            "linecolor": "white",
            "ticks": ""
           },
           "bgcolor": "#E5ECF6",
           "radialaxis": {
            "gridcolor": "white",
            "linecolor": "white",
            "ticks": ""
           }
          },
          "scene": {
           "xaxis": {
            "backgroundcolor": "#E5ECF6",
            "gridcolor": "white",
            "gridwidth": 2,
            "linecolor": "white",
            "showbackground": true,
            "ticks": "",
            "zerolinecolor": "white"
           },
           "yaxis": {
            "backgroundcolor": "#E5ECF6",
            "gridcolor": "white",
            "gridwidth": 2,
            "linecolor": "white",
            "showbackground": true,
            "ticks": "",
            "zerolinecolor": "white"
           },
           "zaxis": {
            "backgroundcolor": "#E5ECF6",
            "gridcolor": "white",
            "gridwidth": 2,
            "linecolor": "white",
            "showbackground": true,
            "ticks": "",
            "zerolinecolor": "white"
           }
          },
          "shapedefaults": {
           "line": {
            "color": "#2a3f5f"
           }
          },
          "ternary": {
           "aaxis": {
            "gridcolor": "white",
            "linecolor": "white",
            "ticks": ""
           },
           "baxis": {
            "gridcolor": "white",
            "linecolor": "white",
            "ticks": ""
           },
           "bgcolor": "#E5ECF6",
           "caxis": {
            "gridcolor": "white",
            "linecolor": "white",
            "ticks": ""
           }
          },
          "title": {
           "x": 0.05
          },
          "xaxis": {
           "automargin": true,
           "gridcolor": "white",
           "linecolor": "white",
           "ticks": "",
           "title": {
            "standoff": 15
           },
           "zerolinecolor": "white",
           "zerolinewidth": 2
          },
          "yaxis": {
           "automargin": true,
           "gridcolor": "white",
           "linecolor": "white",
           "ticks": "",
           "title": {
            "standoff": 15
           },
           "zerolinecolor": "white",
           "zerolinewidth": 2
          }
         }
        },
        "title": {
         "text": "Giá SP500"
        }
       }
      }
     },
     "metadata": {},
     "output_type": "display_data"
    }
   ],
   "source": [
    "draw_candle_plotly(sp500[:20], 'Giá SP500')"
   ]
  },
  {
   "cell_type": "markdown",
   "metadata": {},
   "source": [
    "### test plotly line"
   ]
  },
  {
   "cell_type": "code",
   "execution_count": 4,
   "metadata": {},
   "outputs": [
    {
     "name": "stderr",
     "output_type": "stream",
     "text": [
      "c:\\Users\\LETPC\\Nhan\\projects\\data science\\data-framework\\myvenv\\lib\\site-packages\\plotly\\graph_objs\\_deprecations.py:378: DeprecationWarning:\n",
      "\n",
      "plotly.graph_objs.Line is deprecated.\n",
      "Please replace it with one of the following more specific types\n",
      "  - plotly.graph_objs.scatter.Line\n",
      "  - plotly.graph_objs.layout.shape.Line\n",
      "  - etc.\n",
      "\n",
      "\n"
     ]
    },
    {
     "data": {
      "application/vnd.plotly.v1+json": {
       "config": {
        "plotlyServerURL": "https://plot.ly"
       },
       "data": [
        {
         "type": "scatter",
         "x": [
          "2014-09-17T00:00:00",
          "2014-09-18T00:00:00",
          "2014-09-19T00:00:00",
          "2014-09-22T00:00:00",
          "2014-09-23T00:00:00",
          "2014-09-24T00:00:00",
          "2014-09-25T00:00:00",
          "2014-09-26T00:00:00",
          "2014-09-29T00:00:00",
          "2014-09-30T00:00:00",
          "2014-10-01T00:00:00",
          "2014-10-02T00:00:00",
          "2014-10-03T00:00:00",
          "2014-10-06T00:00:00",
          "2014-10-07T00:00:00",
          "2014-10-08T00:00:00",
          "2014-10-09T00:00:00",
          "2014-10-10T00:00:00",
          "2014-10-13T00:00:00",
          "2014-10-14T00:00:00"
         ],
         "y": [
          2001.5699462890625,
          2011.3599853515625,
          2010.4000244140625,
          1994.2900390625,
          1982.77001953125,
          1998.300048828125,
          1965.989990234375,
          1982.8499755859373,
          1977.800048828125,
          1972.2900390625,
          1946.1600341796875,
          1946.1700439453125,
          1967.9000244140625,
          1964.8199462890625,
          1935.0999755859373,
          1968.8900146484373,
          1928.2099609375,
          1906.1300048828125,
          1874.739990234375,
          1877.699951171875
         ]
        }
       ],
       "layout": {
        "template": {
         "data": {
          "bar": [
           {
            "error_x": {
             "color": "#2a3f5f"
            },
            "error_y": {
             "color": "#2a3f5f"
            },
            "marker": {
             "line": {
              "color": "#E5ECF6",
              "width": 0.5
             },
             "pattern": {
              "fillmode": "overlay",
              "size": 10,
              "solidity": 0.2
             }
            },
            "type": "bar"
           }
          ],
          "barpolar": [
           {
            "marker": {
             "line": {
              "color": "#E5ECF6",
              "width": 0.5
             },
             "pattern": {
              "fillmode": "overlay",
              "size": 10,
              "solidity": 0.2
             }
            },
            "type": "barpolar"
           }
          ],
          "carpet": [
           {
            "aaxis": {
             "endlinecolor": "#2a3f5f",
             "gridcolor": "white",
             "linecolor": "white",
             "minorgridcolor": "white",
             "startlinecolor": "#2a3f5f"
            },
            "baxis": {
             "endlinecolor": "#2a3f5f",
             "gridcolor": "white",
             "linecolor": "white",
             "minorgridcolor": "white",
             "startlinecolor": "#2a3f5f"
            },
            "type": "carpet"
           }
          ],
          "choropleth": [
           {
            "colorbar": {
             "outlinewidth": 0,
             "ticks": ""
            },
            "type": "choropleth"
           }
          ],
          "contour": [
           {
            "colorbar": {
             "outlinewidth": 0,
             "ticks": ""
            },
            "colorscale": [
             [
              0,
              "#0d0887"
             ],
             [
              0.1111111111111111,
              "#46039f"
             ],
             [
              0.2222222222222222,
              "#7201a8"
             ],
             [
              0.3333333333333333,
              "#9c179e"
             ],
             [
              0.4444444444444444,
              "#bd3786"
             ],
             [
              0.5555555555555556,
              "#d8576b"
             ],
             [
              0.6666666666666666,
              "#ed7953"
             ],
             [
              0.7777777777777778,
              "#fb9f3a"
             ],
             [
              0.8888888888888888,
              "#fdca26"
             ],
             [
              1,
              "#f0f921"
             ]
            ],
            "type": "contour"
           }
          ],
          "contourcarpet": [
           {
            "colorbar": {
             "outlinewidth": 0,
             "ticks": ""
            },
            "type": "contourcarpet"
           }
          ],
          "heatmap": [
           {
            "colorbar": {
             "outlinewidth": 0,
             "ticks": ""
            },
            "colorscale": [
             [
              0,
              "#0d0887"
             ],
             [
              0.1111111111111111,
              "#46039f"
             ],
             [
              0.2222222222222222,
              "#7201a8"
             ],
             [
              0.3333333333333333,
              "#9c179e"
             ],
             [
              0.4444444444444444,
              "#bd3786"
             ],
             [
              0.5555555555555556,
              "#d8576b"
             ],
             [
              0.6666666666666666,
              "#ed7953"
             ],
             [
              0.7777777777777778,
              "#fb9f3a"
             ],
             [
              0.8888888888888888,
              "#fdca26"
             ],
             [
              1,
              "#f0f921"
             ]
            ],
            "type": "heatmap"
           }
          ],
          "heatmapgl": [
           {
            "colorbar": {
             "outlinewidth": 0,
             "ticks": ""
            },
            "colorscale": [
             [
              0,
              "#0d0887"
             ],
             [
              0.1111111111111111,
              "#46039f"
             ],
             [
              0.2222222222222222,
              "#7201a8"
             ],
             [
              0.3333333333333333,
              "#9c179e"
             ],
             [
              0.4444444444444444,
              "#bd3786"
             ],
             [
              0.5555555555555556,
              "#d8576b"
             ],
             [
              0.6666666666666666,
              "#ed7953"
             ],
             [
              0.7777777777777778,
              "#fb9f3a"
             ],
             [
              0.8888888888888888,
              "#fdca26"
             ],
             [
              1,
              "#f0f921"
             ]
            ],
            "type": "heatmapgl"
           }
          ],
          "histogram": [
           {
            "marker": {
             "pattern": {
              "fillmode": "overlay",
              "size": 10,
              "solidity": 0.2
             }
            },
            "type": "histogram"
           }
          ],
          "histogram2d": [
           {
            "colorbar": {
             "outlinewidth": 0,
             "ticks": ""
            },
            "colorscale": [
             [
              0,
              "#0d0887"
             ],
             [
              0.1111111111111111,
              "#46039f"
             ],
             [
              0.2222222222222222,
              "#7201a8"
             ],
             [
              0.3333333333333333,
              "#9c179e"
             ],
             [
              0.4444444444444444,
              "#bd3786"
             ],
             [
              0.5555555555555556,
              "#d8576b"
             ],
             [
              0.6666666666666666,
              "#ed7953"
             ],
             [
              0.7777777777777778,
              "#fb9f3a"
             ],
             [
              0.8888888888888888,
              "#fdca26"
             ],
             [
              1,
              "#f0f921"
             ]
            ],
            "type": "histogram2d"
           }
          ],
          "histogram2dcontour": [
           {
            "colorbar": {
             "outlinewidth": 0,
             "ticks": ""
            },
            "colorscale": [
             [
              0,
              "#0d0887"
             ],
             [
              0.1111111111111111,
              "#46039f"
             ],
             [
              0.2222222222222222,
              "#7201a8"
             ],
             [
              0.3333333333333333,
              "#9c179e"
             ],
             [
              0.4444444444444444,
              "#bd3786"
             ],
             [
              0.5555555555555556,
              "#d8576b"
             ],
             [
              0.6666666666666666,
              "#ed7953"
             ],
             [
              0.7777777777777778,
              "#fb9f3a"
             ],
             [
              0.8888888888888888,
              "#fdca26"
             ],
             [
              1,
              "#f0f921"
             ]
            ],
            "type": "histogram2dcontour"
           }
          ],
          "mesh3d": [
           {
            "colorbar": {
             "outlinewidth": 0,
             "ticks": ""
            },
            "type": "mesh3d"
           }
          ],
          "parcoords": [
           {
            "line": {
             "colorbar": {
              "outlinewidth": 0,
              "ticks": ""
             }
            },
            "type": "parcoords"
           }
          ],
          "pie": [
           {
            "automargin": true,
            "type": "pie"
           }
          ],
          "scatter": [
           {
            "fillpattern": {
             "fillmode": "overlay",
             "size": 10,
             "solidity": 0.2
            },
            "type": "scatter"
           }
          ],
          "scatter3d": [
           {
            "line": {
             "colorbar": {
              "outlinewidth": 0,
              "ticks": ""
             }
            },
            "marker": {
             "colorbar": {
              "outlinewidth": 0,
              "ticks": ""
             }
            },
            "type": "scatter3d"
           }
          ],
          "scattercarpet": [
           {
            "marker": {
             "colorbar": {
              "outlinewidth": 0,
              "ticks": ""
             }
            },
            "type": "scattercarpet"
           }
          ],
          "scattergeo": [
           {
            "marker": {
             "colorbar": {
              "outlinewidth": 0,
              "ticks": ""
             }
            },
            "type": "scattergeo"
           }
          ],
          "scattergl": [
           {
            "marker": {
             "colorbar": {
              "outlinewidth": 0,
              "ticks": ""
             }
            },
            "type": "scattergl"
           }
          ],
          "scattermapbox": [
           {
            "marker": {
             "colorbar": {
              "outlinewidth": 0,
              "ticks": ""
             }
            },
            "type": "scattermapbox"
           }
          ],
          "scatterpolar": [
           {
            "marker": {
             "colorbar": {
              "outlinewidth": 0,
              "ticks": ""
             }
            },
            "type": "scatterpolar"
           }
          ],
          "scatterpolargl": [
           {
            "marker": {
             "colorbar": {
              "outlinewidth": 0,
              "ticks": ""
             }
            },
            "type": "scatterpolargl"
           }
          ],
          "scatterternary": [
           {
            "marker": {
             "colorbar": {
              "outlinewidth": 0,
              "ticks": ""
             }
            },
            "type": "scatterternary"
           }
          ],
          "surface": [
           {
            "colorbar": {
             "outlinewidth": 0,
             "ticks": ""
            },
            "colorscale": [
             [
              0,
              "#0d0887"
             ],
             [
              0.1111111111111111,
              "#46039f"
             ],
             [
              0.2222222222222222,
              "#7201a8"
             ],
             [
              0.3333333333333333,
              "#9c179e"
             ],
             [
              0.4444444444444444,
              "#bd3786"
             ],
             [
              0.5555555555555556,
              "#d8576b"
             ],
             [
              0.6666666666666666,
              "#ed7953"
             ],
             [
              0.7777777777777778,
              "#fb9f3a"
             ],
             [
              0.8888888888888888,
              "#fdca26"
             ],
             [
              1,
              "#f0f921"
             ]
            ],
            "type": "surface"
           }
          ],
          "table": [
           {
            "cells": {
             "fill": {
              "color": "#EBF0F8"
             },
             "line": {
              "color": "white"
             }
            },
            "header": {
             "fill": {
              "color": "#C8D4E3"
             },
             "line": {
              "color": "white"
             }
            },
            "type": "table"
           }
          ]
         },
         "layout": {
          "annotationdefaults": {
           "arrowcolor": "#2a3f5f",
           "arrowhead": 0,
           "arrowwidth": 1
          },
          "autotypenumbers": "strict",
          "coloraxis": {
           "colorbar": {
            "outlinewidth": 0,
            "ticks": ""
           }
          },
          "colorscale": {
           "diverging": [
            [
             0,
             "#8e0152"
            ],
            [
             0.1,
             "#c51b7d"
            ],
            [
             0.2,
             "#de77ae"
            ],
            [
             0.3,
             "#f1b6da"
            ],
            [
             0.4,
             "#fde0ef"
            ],
            [
             0.5,
             "#f7f7f7"
            ],
            [
             0.6,
             "#e6f5d0"
            ],
            [
             0.7,
             "#b8e186"
            ],
            [
             0.8,
             "#7fbc41"
            ],
            [
             0.9,
             "#4d9221"
            ],
            [
             1,
             "#276419"
            ]
           ],
           "sequential": [
            [
             0,
             "#0d0887"
            ],
            [
             0.1111111111111111,
             "#46039f"
            ],
            [
             0.2222222222222222,
             "#7201a8"
            ],
            [
             0.3333333333333333,
             "#9c179e"
            ],
            [
             0.4444444444444444,
             "#bd3786"
            ],
            [
             0.5555555555555556,
             "#d8576b"
            ],
            [
             0.6666666666666666,
             "#ed7953"
            ],
            [
             0.7777777777777778,
             "#fb9f3a"
            ],
            [
             0.8888888888888888,
             "#fdca26"
            ],
            [
             1,
             "#f0f921"
            ]
           ],
           "sequentialminus": [
            [
             0,
             "#0d0887"
            ],
            [
             0.1111111111111111,
             "#46039f"
            ],
            [
             0.2222222222222222,
             "#7201a8"
            ],
            [
             0.3333333333333333,
             "#9c179e"
            ],
            [
             0.4444444444444444,
             "#bd3786"
            ],
            [
             0.5555555555555556,
             "#d8576b"
            ],
            [
             0.6666666666666666,
             "#ed7953"
            ],
            [
             0.7777777777777778,
             "#fb9f3a"
            ],
            [
             0.8888888888888888,
             "#fdca26"
            ],
            [
             1,
             "#f0f921"
            ]
           ]
          },
          "colorway": [
           "#636efa",
           "#EF553B",
           "#00cc96",
           "#ab63fa",
           "#FFA15A",
           "#19d3f3",
           "#FF6692",
           "#B6E880",
           "#FF97FF",
           "#FECB52"
          ],
          "font": {
           "color": "#2a3f5f"
          },
          "geo": {
           "bgcolor": "white",
           "lakecolor": "white",
           "landcolor": "#E5ECF6",
           "showlakes": true,
           "showland": true,
           "subunitcolor": "white"
          },
          "hoverlabel": {
           "align": "left"
          },
          "hovermode": "closest",
          "mapbox": {
           "style": "light"
          },
          "paper_bgcolor": "white",
          "plot_bgcolor": "#E5ECF6",
          "polar": {
           "angularaxis": {
            "gridcolor": "white",
            "linecolor": "white",
            "ticks": ""
           },
           "bgcolor": "#E5ECF6",
           "radialaxis": {
            "gridcolor": "white",
            "linecolor": "white",
            "ticks": ""
           }
          },
          "scene": {
           "xaxis": {
            "backgroundcolor": "#E5ECF6",
            "gridcolor": "white",
            "gridwidth": 2,
            "linecolor": "white",
            "showbackground": true,
            "ticks": "",
            "zerolinecolor": "white"
           },
           "yaxis": {
            "backgroundcolor": "#E5ECF6",
            "gridcolor": "white",
            "gridwidth": 2,
            "linecolor": "white",
            "showbackground": true,
            "ticks": "",
            "zerolinecolor": "white"
           },
           "zaxis": {
            "backgroundcolor": "#E5ECF6",
            "gridcolor": "white",
            "gridwidth": 2,
            "linecolor": "white",
            "showbackground": true,
            "ticks": "",
            "zerolinecolor": "white"
           }
          },
          "shapedefaults": {
           "line": {
            "color": "#2a3f5f"
           }
          },
          "ternary": {
           "aaxis": {
            "gridcolor": "white",
            "linecolor": "white",
            "ticks": ""
           },
           "baxis": {
            "gridcolor": "white",
            "linecolor": "white",
            "ticks": ""
           },
           "bgcolor": "#E5ECF6",
           "caxis": {
            "gridcolor": "white",
            "linecolor": "white",
            "ticks": ""
           }
          },
          "title": {
           "x": 0.05
          },
          "xaxis": {
           "automargin": true,
           "gridcolor": "white",
           "linecolor": "white",
           "ticks": "",
           "title": {
            "standoff": 15
           },
           "zerolinecolor": "white",
           "zerolinewidth": 2
          },
          "yaxis": {
           "automargin": true,
           "gridcolor": "white",
           "linecolor": "white",
           "ticks": "",
           "title": {
            "standoff": 15
           },
           "zerolinecolor": "white",
           "zerolinewidth": 2
          }
         }
        },
        "title": {
         "text": "Giá SP500"
        }
       }
      }
     },
     "metadata": {},
     "output_type": "display_data"
    }
   ],
   "source": [
    "draw_line_plotly(sp500[:20], 'date', 'close', 'Giá SP500')"
   ]
  },
  {
   "cell_type": "markdown",
   "metadata": {},
   "source": [
    "### test LogY Graph"
   ]
  },
  {
   "cell_type": "code",
   "execution_count": 5,
   "metadata": {},
   "outputs": [
    {
     "data": {
      "text/html": [
       "<div>\n",
       "<style scoped>\n",
       "    .dataframe tbody tr th:only-of-type {\n",
       "        vertical-align: middle;\n",
       "    }\n",
       "\n",
       "    .dataframe tbody tr th {\n",
       "        vertical-align: top;\n",
       "    }\n",
       "\n",
       "    .dataframe thead th {\n",
       "        text-align: right;\n",
       "    }\n",
       "</style>\n",
       "<table border=\"1\" class=\"dataframe\">\n",
       "  <thead>\n",
       "    <tr style=\"text-align: right;\">\n",
       "      <th></th>\n",
       "      <th>date</th>\n",
       "      <th>open_sp500</th>\n",
       "      <th>high_sp500</th>\n",
       "      <th>low_sp500</th>\n",
       "      <th>close_sp500</th>\n",
       "      <th>volume_sp500</th>\n",
       "      <th>open_btc</th>\n",
       "      <th>high_btc</th>\n",
       "      <th>low_btc</th>\n",
       "      <th>close_btc</th>\n",
       "      <th>volume_btc</th>\n",
       "    </tr>\n",
       "  </thead>\n",
       "  <tbody>\n",
       "    <tr>\n",
       "      <th>0</th>\n",
       "      <td>2014-09-17</td>\n",
       "      <td>1999.300049</td>\n",
       "      <td>2010.739990</td>\n",
       "      <td>1993.290039</td>\n",
       "      <td>2001.569946</td>\n",
       "      <td>3209420000</td>\n",
       "      <td>465.864014</td>\n",
       "      <td>468.174011</td>\n",
       "      <td>452.421997</td>\n",
       "      <td>457.334015</td>\n",
       "      <td>21056800.0</td>\n",
       "    </tr>\n",
       "    <tr>\n",
       "      <th>1</th>\n",
       "      <td>2014-09-18</td>\n",
       "      <td>2003.069946</td>\n",
       "      <td>2012.339966</td>\n",
       "      <td>2003.069946</td>\n",
       "      <td>2011.359985</td>\n",
       "      <td>3235340000</td>\n",
       "      <td>456.859985</td>\n",
       "      <td>456.859985</td>\n",
       "      <td>413.104004</td>\n",
       "      <td>424.440002</td>\n",
       "      <td>34483200.0</td>\n",
       "    </tr>\n",
       "    <tr>\n",
       "      <th>2</th>\n",
       "      <td>2014-09-19</td>\n",
       "      <td>2012.739990</td>\n",
       "      <td>2019.260010</td>\n",
       "      <td>2006.589966</td>\n",
       "      <td>2010.400024</td>\n",
       "      <td>4880220000</td>\n",
       "      <td>424.102997</td>\n",
       "      <td>427.834991</td>\n",
       "      <td>384.532013</td>\n",
       "      <td>394.795990</td>\n",
       "      <td>37919700.0</td>\n",
       "    </tr>\n",
       "  </tbody>\n",
       "</table>\n",
       "</div>"
      ],
      "text/plain": [
       "        date   open_sp500   high_sp500    low_sp500  close_sp500  \\\n",
       "0 2014-09-17  1999.300049  2010.739990  1993.290039  2001.569946   \n",
       "1 2014-09-18  2003.069946  2012.339966  2003.069946  2011.359985   \n",
       "2 2014-09-19  2012.739990  2019.260010  2006.589966  2010.400024   \n",
       "\n",
       "   volume_sp500    open_btc    high_btc     low_btc   close_btc  volume_btc  \n",
       "0    3209420000  465.864014  468.174011  452.421997  457.334015  21056800.0  \n",
       "1    3235340000  456.859985  456.859985  413.104004  424.440002  34483200.0  \n",
       "2    4880220000  424.102997  427.834991  384.532013  394.795990  37919700.0  "
      ]
     },
     "execution_count": 5,
     "metadata": {},
     "output_type": "execute_result"
    }
   ],
   "source": [
    "with open('sp500_btc.pickle', 'rb') as f:\n",
    "    sp500_btc = pickle.load(f)\n",
    "    \n",
    "sp500_btc.head(3)"
   ]
  },
  {
   "cell_type": "code",
   "execution_count": 6,
   "metadata": {},
   "outputs": [
    {
     "data": {
      "image/png": "[encoded data removed]",
      "text/plain": [
       "<Figure size 1500x500 with 2 Axes>"
      ]
     },
     "metadata": {},
     "output_type": "display_data"
    }
   ],
   "source": [
    "logy = LogYGraph((SeabornFn('lineplot', {'data': sp500_btc, 'x': sp500_btc.date, 'y': 'volume_sp500', 'color': 'red', 'label': 'S&P 500'}),\n",
    "                SeabornFn('lineplot', {'data': sp500_btc, 'x': sp500_btc.date, 'y': 'volume_btc', 'color': 'green', 'label': 'Bitcoin'}),\n",
    "                ))\n",
    "\n",
    "fig, ax1, ax2 = logy.draw()\n",
    "fig.suptitle('Trading volume of Bitcoine vs S&P500')\n",
    "ax1.set_title('Linear scale')\n",
    "ax2.set_title('Log scale')\n",
    "ax1.grid(axis='y')\n",
    "ax2.grid(axis='y')\n",
    "\n"
   ]
  },
  {
   "cell_type": "markdown",
   "metadata": {},
   "source": [
    "### Dist_Moments_Report"
   ]
  },
  {
   "cell_type": "code",
   "execution_count": 7,
   "metadata": {},
   "outputs": [
    {
     "data": {
      "text/html": [
       "<div>\n",
       "<style scoped>\n",
       "    .dataframe tbody tr th:only-of-type {\n",
       "        vertical-align: middle;\n",
       "    }\n",
       "\n",
       "    .dataframe tbody tr th {\n",
       "        vertical-align: top;\n",
       "    }\n",
       "\n",
       "    .dataframe thead th {\n",
       "        text-align: right;\n",
       "    }\n",
       "</style>\n",
       "<table border=\"1\" class=\"dataframe\">\n",
       "  <thead>\n",
       "    <tr style=\"text-align: right;\">\n",
       "      <th></th>\n",
       "      <th>sp500_dcp</th>\n",
       "      <th>btc_dcp</th>\n",
       "      <th>gold_dcp</th>\n",
       "    </tr>\n",
       "  </thead>\n",
       "  <tbody>\n",
       "    <tr>\n",
       "      <th>0</th>\n",
       "      <td>0.000000</td>\n",
       "      <td>0.000000</td>\n",
       "      <td>0.000000</td>\n",
       "    </tr>\n",
       "    <tr>\n",
       "      <th>1</th>\n",
       "      <td>0.023201</td>\n",
       "      <td>-0.125659</td>\n",
       "      <td>-0.038537</td>\n",
       "    </tr>\n",
       "    <tr>\n",
       "      <th>2</th>\n",
       "      <td>0.024534</td>\n",
       "      <td>0.112692</td>\n",
       "      <td>0.020424</td>\n",
       "    </tr>\n",
       "  </tbody>\n",
       "</table>\n",
       "</div>"
      ],
      "text/plain": [
       "   sp500_dcp   btc_dcp  gold_dcp\n",
       "0   0.000000  0.000000  0.000000\n",
       "1   0.023201 -0.125659 -0.038537\n",
       "2   0.024534  0.112692  0.020424"
      ]
     },
     "execution_count": 7,
     "metadata": {},
     "output_type": "execute_result"
    }
   ],
   "source": [
    "with open('dcp_df.pickle', 'rb') as f:\n",
    "    dcp_df = pickle.load(f)\n",
    "    \n",
    "dcp_df.head(3)"
   ]
  },
  {
   "cell_type": "code",
   "execution_count": 8,
   "metadata": {},
   "outputs": [
    {
     "data": {
      "text/html": [
       "<style type=\"text/css\">\n",
       "#T_312b0_row0_col0 {\n",
       "  width: 120px;\n",
       "  border-right: 1px solid black;\n",
       "  background: linear-gradient(90deg, transparent 30.0%, blue 30.0%, blue 30.7%, transparent 30.7%) no-repeat center;\n",
       "  background-size: 100% 50.0%;\n",
       "}\n",
       "#T_312b0_row0_col1 {\n",
       "  width: 120px;\n",
       "  border-right: 1px solid black;\n",
       "  background: linear-gradient(90deg, transparent 30.0%, blue 30.0%, blue 39.3%, transparent 39.3%) no-repeat center;\n",
       "  background-size: 100% 50.0%;\n",
       "}\n",
       "#T_312b0_row0_col2 {\n",
       "  width: 120px;\n",
       "  border-right: 1px solid black;\n",
       "  background: linear-gradient(90deg, transparent 30.0%, blue 30.0%, blue 33.5%, transparent 33.5%) no-repeat center;\n",
       "  background-size: 100% 50.0%;\n",
       "}\n",
       "#T_312b0_row1_col0, #T_312b0_row1_col2 {\n",
       "  width: 120px;\n",
       "  border-right: 1px solid black;\n",
       "  background: linear-gradient(90deg, transparent 30.0%, blue 30.0%, blue 60.0%, transparent 60.0%) no-repeat center;\n",
       "  background-size: 100% 50.0%;\n",
       "}\n",
       "#T_312b0_row1_col1 {\n",
       "  width: 120px;\n",
       "  border-right: 1px solid black;\n",
       "  background: linear-gradient(90deg, transparent 30.0%, blue 30.0%, blue 32.7%, transparent 32.7%) no-repeat center;\n",
       "  background-size: 100% 50.0%;\n",
       "}\n",
       "#T_312b0_row2_col0 {\n",
       "  width: 120px;\n",
       "  border-right: 1px solid black;\n",
       "  background: linear-gradient(90deg, transparent 28.8%, red 28.8%, red 30.0%, transparent 30.0%) no-repeat center;\n",
       "  background-size: 100% 50.0%;\n",
       "}\n",
       "#T_312b0_row2_col1 {\n",
       "  width: 120px;\n",
       "  border-right: 1px solid black;\n",
       "  background: linear-gradient(90deg, transparent 18.9%, red 18.9%, red 30.0%, transparent 30.0%) no-repeat center;\n",
       "  background-size: 100% 50.0%;\n",
       "}\n",
       "#T_312b0_row2_col2 {\n",
       "  width: 120px;\n",
       "  border-right: 1px solid black;\n",
       "  background: linear-gradient(90deg, transparent 24.8%, red 24.8%, red 30.0%, transparent 30.0%) no-repeat center;\n",
       "  background-size: 100% 50.0%;\n",
       "}\n",
       "#T_312b0_row3_col0 {\n",
       "  width: 120px;\n",
       "  border-right: 1px solid black;\n",
       "  background: linear-gradient(90deg, transparent 28.4%, red 28.4%, red 30.0%, transparent 30.0%) no-repeat center;\n",
       "  background-size: 100% 50.0%;\n",
       "}\n",
       "#T_312b0_row3_col1 {\n",
       "  width: 120px;\n",
       "  border-right: 1px solid black;\n",
       "  background: linear-gradient(90deg, transparent 17.0%, red 17.0%, red 30.0%, transparent 30.0%) no-repeat center;\n",
       "  background-size: 100% 50.0%;\n",
       "}\n",
       "#T_312b0_row3_col2 {\n",
       "  width: 120px;\n",
       "  border-right: 1px solid black;\n",
       "  background: linear-gradient(90deg, transparent 23.5%, red 23.5%, red 30.0%, transparent 30.0%) no-repeat center;\n",
       "  background-size: 100% 50.0%;\n",
       "}\n",
       "#T_312b0_row4_col0 {\n",
       "  width: 120px;\n",
       "  border-right: 1px solid black;\n",
       "  background: linear-gradient(90deg, transparent 26.3%, red 26.3%, red 30.0%, transparent 30.0%) no-repeat center;\n",
       "  background-size: 100% 50.0%;\n",
       "}\n",
       "#T_312b0_row4_col1 {\n",
       "  width: 120px;\n",
       "  border-right: 1px solid black;\n",
       "  background: linear-gradient(90deg, red 30.0%, transparent 30.0%) no-repeat center;\n",
       "  background-size: 100% 50.0%;\n",
       "}\n",
       "#T_312b0_row4_col2 {\n",
       "  width: 120px;\n",
       "  border-right: 1px solid black;\n",
       "  background: linear-gradient(90deg, transparent 14.2%, red 14.2%, red 30.0%, transparent 30.0%) no-repeat center;\n",
       "  background-size: 100% 50.0%;\n",
       "}\n",
       "</style>\n",
       "<table id=\"T_312b0\">\n",
       "  <caption>⬇ means the lower the better, ⬆ otherwise</caption>\n",
       "  <thead>\n",
       "    <tr>\n",
       "      <th class=\"blank level0\" >&nbsp;</th>\n",
       "      <th id=\"T_312b0_level0_col0\" class=\"col_heading level0 col0\" >sp500_dcp</th>\n",
       "      <th id=\"T_312b0_level0_col1\" class=\"col_heading level0 col1\" >btc_dcp</th>\n",
       "      <th id=\"T_312b0_level0_col2\" class=\"col_heading level0 col2\" >gold_dcp</th>\n",
       "    </tr>\n",
       "  </thead>\n",
       "  <tbody>\n",
       "    <tr>\n",
       "      <th id=\"T_312b0_level0_row0\" class=\"row_heading level0 row0\" >volatility ⬇</th>\n",
       "      <td id=\"T_312b0_row0_col0\" class=\"data row0 col0\" >0.041</td>\n",
       "      <td id=\"T_312b0_row0_col1\" class=\"data row0 col1\" >0.236</td>\n",
       "      <td id=\"T_312b0_row0_col2\" class=\"data row0 col2\" >0.036</td>\n",
       "    </tr>\n",
       "    <tr>\n",
       "      <th id=\"T_312b0_level0_row1\" class=\"row_heading level0 row1\" >kurtosis ⬇</th>\n",
       "      <td id=\"T_312b0_row1_col0\" class=\"data row1 col0\" >1.642</td>\n",
       "      <td id=\"T_312b0_row1_col1\" class=\"data row1 col1\" >0.069</td>\n",
       "      <td id=\"T_312b0_row1_col2\" class=\"data row1 col2\" >0.305</td>\n",
       "    </tr>\n",
       "    <tr>\n",
       "      <th id=\"T_312b0_level0_row2\" class=\"row_heading level0 row2\" >VaR (at 95) ⬆</th>\n",
       "      <td id=\"T_312b0_row2_col0\" class=\"data row2 col0\" >-0.065</td>\n",
       "      <td id=\"T_312b0_row2_col1\" class=\"data row2 col1\" >-0.282</td>\n",
       "      <td id=\"T_312b0_row2_col2\" class=\"data row2 col2\" >-0.053</td>\n",
       "    </tr>\n",
       "    <tr>\n",
       "      <th id=\"T_312b0_level0_row3\" class=\"row_heading level0 row3\" >CVaR (at 95) ⬆</th>\n",
       "      <td id=\"T_312b0_row3_col0\" class=\"data row3 col0\" >-0.087</td>\n",
       "      <td id=\"T_312b0_row3_col1\" class=\"data row3 col1\" >-0.330</td>\n",
       "      <td id=\"T_312b0_row3_col2\" class=\"data row3 col2\" >-0.066</td>\n",
       "    </tr>\n",
       "    <tr>\n",
       "      <th id=\"T_312b0_level0_row4\" class=\"row_heading level0 row4\" >MDD ⬆</th>\n",
       "      <td id=\"T_312b0_row4_col0\" class=\"data row4 col0\" >-0.200</td>\n",
       "      <td id=\"T_312b0_row4_col1\" class=\"data row4 col1\" >-0.764</td>\n",
       "      <td id=\"T_312b0_row4_col2\" class=\"data row4 col2\" >-0.161</td>\n",
       "    </tr>\n",
       "  </tbody>\n",
       "</table>\n"
      ],
      "text/plain": [
       "<pandas.io.formats.style.Styler at 0x1e25173de80>"
      ]
     },
     "execution_count": 8,
     "metadata": {},
     "output_type": "execute_result"
    }
   ],
   "source": [
    "Dist_Moments_Report(dcp_df)(95)"
   ]
  },
  {
   "cell_type": "markdown",
   "metadata": {},
   "source": [
    "### Test CompareVarExtreme"
   ]
  },
  {
   "cell_type": "code",
   "execution_count": 9,
   "metadata": {},
   "outputs": [
    {
     "data": {
      "text/html": [
       "<style type=\"text/css\">\n",
       "#T_6d927_row0_col0 {\n",
       "  width: 120px;\n",
       "  border-right: 1px solid black;\n",
       "  background: linear-gradient(90deg, transparent 27.0%, red 27.0%, red 30.0%, transparent 30.0%) no-repeat center;\n",
       "  background-size: 100% 50.0%;\n",
       "}\n",
       "#T_6d927_row0_col1 {\n",
       "  width: 120px;\n",
       "  border-right: 1px solid black;\n",
       "  background: linear-gradient(90deg, transparent 14.0%, red 14.0%, red 30.0%, transparent 30.0%) no-repeat center;\n",
       "  background-size: 100% 50.0%;\n",
       "}\n",
       "#T_6d927_row0_col2 {\n",
       "  width: 120px;\n",
       "  border-right: 1px solid black;\n",
       "  background: linear-gradient(90deg, transparent 26.0%, red 26.0%, red 30.0%, transparent 30.0%) no-repeat center;\n",
       "  background-size: 100% 50.0%;\n",
       "}\n",
       "#T_6d927_row1_col0 {\n",
       "  width: 120px;\n",
       "  border-right: 1px solid black;\n",
       "  background: linear-gradient(90deg, transparent 25.5%, red 25.5%, red 30.0%, transparent 30.0%) no-repeat center;\n",
       "  background-size: 100% 50.0%;\n",
       "}\n",
       "#T_6d927_row1_col1 {\n",
       "  width: 120px;\n",
       "  border-right: 1px solid black;\n",
       "  background: linear-gradient(90deg, transparent 8.4%, red 8.4%, red 30.0%, transparent 30.0%) no-repeat center;\n",
       "  background-size: 100% 50.0%;\n",
       "}\n",
       "#T_6d927_row1_col2 {\n",
       "  width: 120px;\n",
       "  border-right: 1px solid black;\n",
       "  background: linear-gradient(90deg, transparent 24.8%, red 24.8%, red 30.0%, transparent 30.0%) no-repeat center;\n",
       "  background-size: 100% 50.0%;\n",
       "}\n",
       "#T_6d927_row2_col0 {\n",
       "  width: 120px;\n",
       "  border-right: 1px solid black;\n",
       "  background: linear-gradient(90deg, transparent 24.5%, red 24.5%, red 30.0%, transparent 30.0%) no-repeat center;\n",
       "  background-size: 100% 50.0%;\n",
       "}\n",
       "#T_6d927_row2_col1 {\n",
       "  width: 120px;\n",
       "  border-right: 1px solid black;\n",
       "  background: linear-gradient(90deg, transparent 4.0%, red 4.0%, red 30.0%, transparent 30.0%) no-repeat center;\n",
       "  background-size: 100% 50.0%;\n",
       "}\n",
       "#T_6d927_row2_col2 {\n",
       "  width: 120px;\n",
       "  border-right: 1px solid black;\n",
       "  background: linear-gradient(90deg, transparent 23.8%, red 23.8%, red 30.0%, transparent 30.0%) no-repeat center;\n",
       "  background-size: 100% 50.0%;\n",
       "}\n",
       "#T_6d927_row3_col0 {\n",
       "  width: 120px;\n",
       "  border-right: 1px solid black;\n",
       "  background: linear-gradient(90deg, transparent 22.1%, red 22.1%, red 30.0%, transparent 30.0%) no-repeat center;\n",
       "  background-size: 100% 50.0%;\n",
       "}\n",
       "#T_6d927_row3_col1 {\n",
       "  width: 120px;\n",
       "  border-right: 1px solid black;\n",
       "  background: linear-gradient(90deg, red 30.0%, transparent 30.0%) no-repeat center;\n",
       "  background-size: 100% 50.0%;\n",
       "}\n",
       "#T_6d927_row3_col2 {\n",
       "  width: 120px;\n",
       "  border-right: 1px solid black;\n",
       "  background: linear-gradient(90deg, transparent 23.1%, red 23.1%, red 30.0%, transparent 30.0%) no-repeat center;\n",
       "  background-size: 100% 50.0%;\n",
       "}\n",
       "#T_6d927_row4_col0, #T_6d927_row4_col1, #T_6d927_row4_col2 {\n",
       "  width: 120px;\n",
       "  border-right: 1px solid black;\n",
       "}\n",
       "#T_6d927_row5_col0, #T_6d927_row5_col2 {\n",
       "  width: 120px;\n",
       "  border-right: 1px solid black;\n",
       "  background: linear-gradient(90deg, transparent 30.0%, blue 30.0%, blue 60.0%, transparent 60.0%) no-repeat center;\n",
       "  background-size: 100% 50.0%;\n",
       "}\n",
       "#T_6d927_row5_col1 {\n",
       "  width: 120px;\n",
       "  border-right: 1px solid black;\n",
       "  background: linear-gradient(90deg, transparent 30.0%, blue 30.0%, blue 57.6%, transparent 57.6%) no-repeat center;\n",
       "  background-size: 100% 50.0%;\n",
       "}\n",
       "#T_6d927_row6_col0 {\n",
       "  width: 120px;\n",
       "  border-right: 1px solid black;\n",
       "  background: linear-gradient(90deg, transparent 30.0%, blue 30.0%, blue 44.8%, transparent 44.8%) no-repeat center;\n",
       "  background-size: 100% 50.0%;\n",
       "}\n",
       "#T_6d927_row6_col1 {\n",
       "  width: 120px;\n",
       "  border-right: 1px solid black;\n",
       "  background: linear-gradient(90deg, transparent 30.0%, blue 30.0%, blue 45.7%, transparent 45.7%) no-repeat center;\n",
       "  background-size: 100% 50.0%;\n",
       "}\n",
       "#T_6d927_row6_col2 {\n",
       "  width: 120px;\n",
       "  border-right: 1px solid black;\n",
       "  background: linear-gradient(90deg, transparent 30.0%, blue 30.0%, blue 48.4%, transparent 48.4%) no-repeat center;\n",
       "  background-size: 100% 50.0%;\n",
       "}\n",
       "#T_6d927_row7_col0 {\n",
       "  width: 120px;\n",
       "  border-right: 1px solid black;\n",
       "  background: linear-gradient(90deg, transparent 30.0%, blue 30.0%, blue 57.5%, transparent 57.5%) no-repeat center;\n",
       "  background-size: 100% 50.0%;\n",
       "}\n",
       "#T_6d927_row7_col1 {\n",
       "  width: 120px;\n",
       "  border-right: 1px solid black;\n",
       "  background: linear-gradient(90deg, transparent 30.0%, blue 30.0%, blue 42.2%, transparent 42.2%) no-repeat center;\n",
       "  background-size: 100% 50.0%;\n",
       "}\n",
       "#T_6d927_row7_col2 {\n",
       "  width: 120px;\n",
       "  border-right: 1px solid black;\n",
       "  background: linear-gradient(90deg, transparent 30.0%, blue 30.0%, blue 39.6%, transparent 39.6%) no-repeat center;\n",
       "  background-size: 100% 50.0%;\n",
       "}\n",
       "</style>\n",
       "<table id=\"T_6d927\">\n",
       "  <thead>\n",
       "    <tr>\n",
       "      <th class=\"blank level0\" >&nbsp;</th>\n",
       "      <th id=\"T_6d927_level0_col0\" class=\"col_heading level0 col0\" >sp500_dcp</th>\n",
       "      <th id=\"T_6d927_level0_col1\" class=\"col_heading level0 col1\" >btc_dcp</th>\n",
       "      <th id=\"T_6d927_level0_col2\" class=\"col_heading level0 col2\" >gold_dcp</th>\n",
       "    </tr>\n",
       "  </thead>\n",
       "  <tbody>\n",
       "    <tr>\n",
       "      <th id=\"T_6d927_level0_row0\" class=\"row_heading level0 row0\" >CVaR at 80</th>\n",
       "      <td id=\"T_6d927_row0_col0\" class=\"data row0 col0\" >-0.048</td>\n",
       "      <td id=\"T_6d927_row0_col1\" class=\"data row0 col1\" >-0.204</td>\n",
       "      <td id=\"T_6d927_row0_col2\" class=\"data row0 col2\" >-0.042</td>\n",
       "    </tr>\n",
       "    <tr>\n",
       "      <th id=\"T_6d927_level0_row1\" class=\"row_heading level0 row1\" >CVaR at 90</th>\n",
       "      <td id=\"T_6d927_row1_col0\" class=\"data row1 col0\" >-0.071</td>\n",
       "      <td id=\"T_6d927_row1_col1\" class=\"data row1 col1\" >-0.275</td>\n",
       "      <td id=\"T_6d927_row1_col2\" class=\"data row1 col2\" >-0.055</td>\n",
       "    </tr>\n",
       "    <tr>\n",
       "      <th id=\"T_6d927_level0_row2\" class=\"row_heading level0 row2\" >CVaR at 95</th>\n",
       "      <td id=\"T_6d927_row2_col0\" class=\"data row2 col0\" >-0.087</td>\n",
       "      <td id=\"T_6d927_row2_col1\" class=\"data row2 col1\" >-0.330</td>\n",
       "      <td id=\"T_6d927_row2_col2\" class=\"data row2 col2\" >-0.066</td>\n",
       "    </tr>\n",
       "    <tr>\n",
       "      <th id=\"T_6d927_level0_row3\" class=\"row_heading level0 row3\" >CVaR at 99</th>\n",
       "      <td id=\"T_6d927_row3_col0\" class=\"data row3 col0\" >-0.125</td>\n",
       "      <td id=\"T_6d927_row3_col1\" class=\"data row3 col1\" >-0.382</td>\n",
       "      <td id=\"T_6d927_row3_col2\" class=\"data row3 col2\" >-0.073</td>\n",
       "    </tr>\n",
       "    <tr>\n",
       "      <th id=\"T_6d927_level0_row4\" class=\"row_heading level0 row4\" >PCT - 80</th>\n",
       "      <td id=\"T_6d927_row4_col0\" class=\"data row4 col0\" >-0.000</td>\n",
       "      <td id=\"T_6d927_row4_col1\" class=\"data row4 col1\" >-0.000</td>\n",
       "      <td id=\"T_6d927_row4_col2\" class=\"data row4 col2\" >-0.000</td>\n",
       "    </tr>\n",
       "    <tr>\n",
       "      <th id=\"T_6d927_level0_row5\" class=\"row_heading level0 row5\" >PCT - 90</th>\n",
       "      <td id=\"T_6d927_row5_col0\" class=\"data row5 col0\" >0.474</td>\n",
       "      <td id=\"T_6d927_row5_col1\" class=\"data row5 col1\" >0.351</td>\n",
       "      <td id=\"T_6d927_row5_col2\" class=\"data row5 col2\" >0.318</td>\n",
       "    </tr>\n",
       "    <tr>\n",
       "      <th id=\"T_6d927_level0_row6\" class=\"row_heading level0 row6\" >PCT - 95</th>\n",
       "      <td id=\"T_6d927_row6_col0\" class=\"data row6 col0\" >0.234</td>\n",
       "      <td id=\"T_6d927_row6_col1\" class=\"data row6 col1\" >0.200</td>\n",
       "      <td id=\"T_6d927_row6_col2\" class=\"data row6 col2\" >0.194</td>\n",
       "    </tr>\n",
       "    <tr>\n",
       "      <th id=\"T_6d927_level0_row7\" class=\"row_heading level0 row7\" >PCT - 99</th>\n",
       "      <td id=\"T_6d927_row7_col0\" class=\"data row7 col0\" >0.434</td>\n",
       "      <td id=\"T_6d927_row7_col1\" class=\"data row7 col1\" >0.156</td>\n",
       "      <td id=\"T_6d927_row7_col2\" class=\"data row7 col2\" >0.102</td>\n",
       "    </tr>\n",
       "  </tbody>\n",
       "</table>\n"
      ],
      "text/plain": [
       "<pandas.io.formats.style.Styler at 0x1e25171f400>"
      ]
     },
     "execution_count": 9,
     "metadata": {},
     "output_type": "execute_result"
    }
   ],
   "source": [
    "CompareExtremeVaR(dcp_df, expected_shortfall)()"
   ]
  },
  {
   "cell_type": "markdown",
   "metadata": {},
   "source": [
    "### Test Risk_Return_Ratio_Report"
   ]
  },
  {
   "cell_type": "code",
   "execution_count": 10,
   "metadata": {},
   "outputs": [
    {
     "data": {
      "text/html": [
       "<style type=\"text/css\">\n",
       "#T_16dd3_row0_col0, #T_16dd3_row3_col0 {\n",
       "  width: 120px;\n",
       "  border-right: 1px solid black;\n",
       "  background: linear-gradient(90deg, transparent 30.0%, blue 30.0%, blue 51.9%, transparent 51.9%) no-repeat center;\n",
       "  background-size: 100% 50.0%;\n",
       "}\n",
       "#T_16dd3_row0_col1, #T_16dd3_row1_col1, #T_16dd3_row2_col1, #T_16dd3_row3_col1 {\n",
       "  width: 120px;\n",
       "  border-right: 1px solid black;\n",
       "  background: linear-gradient(90deg, transparent 30.0%, blue 30.0%, blue 60.0%, transparent 60.0%) no-repeat center;\n",
       "  background-size: 100% 50.0%;\n",
       "}\n",
       "#T_16dd3_row0_col2, #T_16dd3_row3_col2 {\n",
       "  width: 120px;\n",
       "  border-right: 1px solid black;\n",
       "  background: linear-gradient(90deg, transparent 30.0%, blue 30.0%, blue 41.5%, transparent 41.5%) no-repeat center;\n",
       "  background-size: 100% 50.0%;\n",
       "}\n",
       "#T_16dd3_row1_col0 {\n",
       "  width: 120px;\n",
       "  border-right: 1px solid black;\n",
       "  background: linear-gradient(90deg, transparent 30.0%, blue 30.0%, blue 42.0%, transparent 42.0%) no-repeat center;\n",
       "  background-size: 100% 50.0%;\n",
       "}\n",
       "#T_16dd3_row1_col2 {\n",
       "  width: 120px;\n",
       "  border-right: 1px solid black;\n",
       "  background: linear-gradient(90deg, transparent 30.0%, blue 30.0%, blue 38.9%, transparent 38.9%) no-repeat center;\n",
       "  background-size: 100% 50.0%;\n",
       "}\n",
       "#T_16dd3_row2_col0 {\n",
       "  width: 120px;\n",
       "  border-right: 1px solid black;\n",
       "}\n",
       "#T_16dd3_row2_col2 {\n",
       "  width: 120px;\n",
       "  border-right: 1px solid black;\n",
       "  background: linear-gradient(90deg, transparent 20.8%, red 20.8%, red 30.0%, transparent 30.0%) no-repeat center;\n",
       "  background-size: 100% 50.0%;\n",
       "}\n",
       "</style>\n",
       "<table id=\"T_16dd3\">\n",
       "  <caption>The higher the ratios the better</caption>\n",
       "  <thead>\n",
       "    <tr>\n",
       "      <th class=\"blank level0\" >&nbsp;</th>\n",
       "      <th id=\"T_16dd3_level0_col0\" class=\"col_heading level0 col0\" >sp500_dcp</th>\n",
       "      <th id=\"T_16dd3_level0_col1\" class=\"col_heading level0 col1\" >btc_dcp</th>\n",
       "      <th id=\"T_16dd3_level0_col2\" class=\"col_heading level0 col2\" >gold_dcp</th>\n",
       "    </tr>\n",
       "  </thead>\n",
       "  <tbody>\n",
       "    <tr>\n",
       "      <th id=\"T_16dd3_level0_row0\" class=\"row_heading level0 row0\" >Sharpe Ratio</th>\n",
       "      <td id=\"T_16dd3_row0_col0\" class=\"data row0 col0\" >0.264</td>\n",
       "      <td id=\"T_16dd3_row0_col1\" class=\"data row0 col1\" >0.361</td>\n",
       "      <td id=\"T_16dd3_row0_col2\" class=\"data row0 col2\" >0.139</td>\n",
       "    </tr>\n",
       "    <tr>\n",
       "      <th id=\"T_16dd3_level0_row1\" class=\"row_heading level0 row1\" >Sortino Ratio</th>\n",
       "      <td id=\"T_16dd3_row1_col0\" class=\"data row1 col0\" >0.338</td>\n",
       "      <td id=\"T_16dd3_row1_col1\" class=\"data row1 col1\" >0.842</td>\n",
       "      <td id=\"T_16dd3_row1_col2\" class=\"data row1 col2\" >0.250</td>\n",
       "    </tr>\n",
       "    <tr>\n",
       "      <th id=\"T_16dd3_level0_row2\" class=\"row_heading level0 row2\" >Information Ratio</th>\n",
       "      <td id=\"T_16dd3_row2_col0\" class=\"data row2 col0\" >nan</td>\n",
       "      <td id=\"T_16dd3_row2_col1\" class=\"data row2 col1\" >0.328</td>\n",
       "      <td id=\"T_16dd3_row2_col2\" class=\"data row2 col2\" >-0.100</td>\n",
       "    </tr>\n",
       "    <tr>\n",
       "      <th id=\"T_16dd3_level0_row3\" class=\"row_heading level0 row3\" >M2 Ratio</th>\n",
       "      <td id=\"T_16dd3_row3_col0\" class=\"data row3 col0\" >0.011</td>\n",
       "      <td id=\"T_16dd3_row3_col1\" class=\"data row3 col1\" >0.015</td>\n",
       "      <td id=\"T_16dd3_row3_col2\" class=\"data row3 col2\" >0.006</td>\n",
       "    </tr>\n",
       "  </tbody>\n",
       "</table>\n"
      ],
      "text/plain": [
       "<pandas.io.formats.style.Styler at 0x1e24f184e20>"
      ]
     },
     "execution_count": 10,
     "metadata": {},
     "output_type": "execute_result"
    }
   ],
   "source": [
    "Risk_Return_Ratio_Report(dcp_df[['sp500_dcp', 'btc_dcp', 'gold_dcp']], dcp_df.sp500_dcp)()"
   ]
  },
  {
   "cell_type": "markdown",
   "metadata": {},
   "source": [
    "### Test draw ECDF & ECDF Boundaries"
   ]
  },
  {
   "cell_type": "code",
   "execution_count": 11,
   "metadata": {},
   "outputs": [
    {
     "data": {
      "text/html": [
       "<div>\n",
       "<style scoped>\n",
       "    .dataframe tbody tr th:only-of-type {\n",
       "        vertical-align: middle;\n",
       "    }\n",
       "\n",
       "    .dataframe tbody tr th {\n",
       "        vertical-align: top;\n",
       "    }\n",
       "\n",
       "    .dataframe thead th {\n",
       "        text-align: right;\n",
       "    }\n",
       "</style>\n",
       "<table border=\"1\" class=\"dataframe\">\n",
       "  <thead>\n",
       "    <tr style=\"text-align: right;\">\n",
       "      <th></th>\n",
       "      <th>close_sp500</th>\n",
       "      <th>close_btc</th>\n",
       "      <th>gold_usd</th>\n",
       "      <th>cpi_us</th>\n",
       "      <th>inflation</th>\n",
       "      <th>sp_pct</th>\n",
       "      <th>btc_pct</th>\n",
       "      <th>gold_pct</th>\n",
       "    </tr>\n",
       "    <tr>\n",
       "      <th>date</th>\n",
       "      <th></th>\n",
       "      <th></th>\n",
       "      <th></th>\n",
       "      <th></th>\n",
       "      <th></th>\n",
       "      <th></th>\n",
       "      <th></th>\n",
       "      <th></th>\n",
       "    </tr>\n",
       "  </thead>\n",
       "  <tbody>\n",
       "    <tr>\n",
       "      <th>2014-09-30</th>\n",
       "      <td>1972.290039</td>\n",
       "      <td>386.944000</td>\n",
       "      <td>1223.565</td>\n",
       "      <td>238.031</td>\n",
       "      <td>0.000000</td>\n",
       "      <td>0.000000</td>\n",
       "      <td>0.000000</td>\n",
       "      <td>0.000000</td>\n",
       "    </tr>\n",
       "    <tr>\n",
       "      <th>2014-10-31</th>\n",
       "      <td>2018.050049</td>\n",
       "      <td>338.321014</td>\n",
       "      <td>1176.413</td>\n",
       "      <td>237.433</td>\n",
       "      <td>-0.251228</td>\n",
       "      <td>2.320146</td>\n",
       "      <td>-12.565897</td>\n",
       "      <td>-3.853657</td>\n",
       "    </tr>\n",
       "    <tr>\n",
       "      <th>2014-11-30</th>\n",
       "      <td>2067.560059</td>\n",
       "      <td>376.446991</td>\n",
       "      <td>1200.440</td>\n",
       "      <td>236.151</td>\n",
       "      <td>-0.539942</td>\n",
       "      <td>2.453359</td>\n",
       "      <td>11.269172</td>\n",
       "      <td>2.042395</td>\n",
       "    </tr>\n",
       "  </tbody>\n",
       "</table>\n",
       "</div>"
      ],
      "text/plain": [
       "            close_sp500   close_btc  gold_usd   cpi_us  inflation    sp_pct  \\\n",
       "date                                                                          \n",
       "2014-09-30  1972.290039  386.944000  1223.565  238.031   0.000000  0.000000   \n",
       "2014-10-31  2018.050049  338.321014  1176.413  237.433  -0.251228  2.320146   \n",
       "2014-11-30  2067.560059  376.446991  1200.440  236.151  -0.539942  2.453359   \n",
       "\n",
       "              btc_pct  gold_pct  \n",
       "date                             \n",
       "2014-09-30   0.000000  0.000000  \n",
       "2014-10-31 -12.565897 -3.853657  \n",
       "2014-11-30  11.269172  2.042395  "
      ]
     },
     "execution_count": 11,
     "metadata": {},
     "output_type": "execute_result"
    }
   ],
   "source": [
    "with open('inflation_month.pickle', 'rb') as f:\n",
    "    inflation_month = pickle.load(f)\n",
    "    \n",
    "inflation_month.head(3)"
   ]
  },
  {
   "cell_type": "code",
   "execution_count": 12,
   "metadata": {},
   "outputs": [
    {
     "data": {
      "image/png": "[encoded data removed]",
      "text/plain": [
       "<Figure size 2000x500 with 2 Axes>"
      ]
     },
     "metadata": {},
     "output_type": "display_data"
    }
   ],
   "source": [
    "fig, (ax1, ax2) = plt.subplots(1, 2, figsize=(20, 5), sharey=True)\n",
    "\n",
    "ax1 = draw_ecdf(ax1, inflation_month.inflation, 'Inflation')\n",
    "ax2 = draw_ecdf(ax2, inflation_month.btc_pct, 'Bitcoin')\n",
    "draw_percentile_boundaries(inflation_month.inflation, ax1, 80, 99)\n",
    "draw_percentile_boundaries(inflation_month.btc_pct, ax2, 80, 99)"
   ]
  },
  {
   "cell_type": "markdown",
   "metadata": {},
   "source": [
    "### Test percentile_comparision"
   ]
  },
  {
   "cell_type": "code",
   "execution_count": 13,
   "metadata": {},
   "outputs": [
    {
     "name": "stdout",
     "output_type": "stream",
     "text": [
      "extreme\n",
      "date\n",
      "2015-03-31   -1.739611\n",
      "2015-05-31    1.049138\n",
      "2016-04-30    0.269940\n",
      "Name: sp_pct, dtype: float64\n",
      "middle\n",
      "date\n",
      "2014-09-30    0.000000\n",
      "2015-02-28    5.489251\n",
      "2015-04-30    0.852082\n",
      "Name: sp_pct, dtype: float64\n",
      "lowest\n",
      "date\n",
      "2014-10-31    2.320146\n",
      "2014-11-30    2.453359\n",
      "2014-12-31   -0.418859\n",
      "Name: sp_pct, dtype: float64\n"
     ]
    }
   ],
   "source": [
    "with open('sample_percentile.pickle', 'rb') as f:\n",
    "    sample_percentile = pickle.load(f)\n",
    "    \n",
    "for index, value in sample_percentile.items():\n",
    "    print(index, value.head(3), sep='\\n')"
   ]
  },
  {
   "cell_type": "code",
   "execution_count": 14,
   "metadata": {},
   "outputs": [
    {
     "name": "stdout",
     "output_type": "stream",
     "text": [
      "Triangle is Mean, Line is Median \n",
      "\n"
     ]
    },
    {
     "data": {
      "image/png": "[encoded data removed]",
      "text/plain": [
       "<Figure size 800x600 with 1 Axes>"
      ]
     },
     "metadata": {},
     "output_type": "display_data"
    }
   ],
   "source": [
    "percentile_comparision_data = [sample_percentile['extreme'], sample_percentile['middle'], sample_percentile['lowest']]\n",
    "fig, ax = draw_boxplot_percentile_comparision(percentile_comparision_data, ['High CPI (top 10%)','Medium CPI','Low CPI (bottom 10%)'])\n",
    "plt.title('Monthly S&P500 returns by inflation percentiles')\n",
    "ax.set_ylabel('SP500 returns')\n",
    "print('Triangle is Mean, Line is Median \\n')\n",
    "plt.show()"
   ]
  },
  {
   "cell_type": "markdown",
   "metadata": {},
   "source": [
    "### Test Two Var Portfolio"
   ]
  },
  {
   "cell_type": "code",
   "execution_count": 15,
   "metadata": {},
   "outputs": [
    {
     "data": {
      "text/html": [
       "<div>\n",
       "<style scoped>\n",
       "    .dataframe tbody tr th:only-of-type {\n",
       "        vertical-align: middle;\n",
       "    }\n",
       "\n",
       "    .dataframe tbody tr th {\n",
       "        vertical-align: top;\n",
       "    }\n",
       "\n",
       "    .dataframe thead th {\n",
       "        text-align: right;\n",
       "    }\n",
       "</style>\n",
       "<table border=\"1\" class=\"dataframe\">\n",
       "  <thead>\n",
       "    <tr style=\"text-align: right;\">\n",
       "      <th></th>\n",
       "      <th>close_btc</th>\n",
       "      <th>close_sp500</th>\n",
       "      <th>gold_usd</th>\n",
       "    </tr>\n",
       "    <tr>\n",
       "      <th>date</th>\n",
       "      <th></th>\n",
       "      <th></th>\n",
       "      <th></th>\n",
       "    </tr>\n",
       "  </thead>\n",
       "  <tbody>\n",
       "    <tr>\n",
       "      <th>2014-09-30</th>\n",
       "      <td>386.944000</td>\n",
       "      <td>1972.290039</td>\n",
       "      <td>1223.565</td>\n",
       "    </tr>\n",
       "    <tr>\n",
       "      <th>2014-10-31</th>\n",
       "      <td>338.321014</td>\n",
       "      <td>2018.050049</td>\n",
       "      <td>1176.413</td>\n",
       "    </tr>\n",
       "    <tr>\n",
       "      <th>2014-11-30</th>\n",
       "      <td>376.446991</td>\n",
       "      <td>2067.560059</td>\n",
       "      <td>1200.440</td>\n",
       "    </tr>\n",
       "  </tbody>\n",
       "</table>\n",
       "</div>"
      ],
      "text/plain": [
       "             close_btc  close_sp500  gold_usd\n",
       "date                                         \n",
       "2014-09-30  386.944000  1972.290039  1223.565\n",
       "2014-10-31  338.321014  2018.050049  1176.413\n",
       "2014-11-30  376.446991  2067.560059  1200.440"
      ]
     },
     "execution_count": 15,
     "metadata": {},
     "output_type": "execute_result"
    }
   ],
   "source": [
    "with open('portfolio_data.pickle', 'rb') as f:\n",
    "    portfolio_data = pickle.load(f)\n",
    "    \n",
    "portfolio_data.head(3)"
   ]
  },
  {
   "cell_type": "code",
   "execution_count": 16,
   "metadata": {},
   "outputs": [],
   "source": [
    "bitcoin_ratio = (.2, .4, .6, .8)\n",
    "sp500_ratio = (.2, .4, .6, .8)\n",
    "\n",
    "tt = TwoVariablePortfolioReport(portfolio_data) \n",
    "tt.add_steps(bitcoin_ratio, sp500_ratio)\n",
    "tt.create_portfolio_stat()"
   ]
  },
  {
   "cell_type": "code",
   "execution_count": 17,
   "metadata": {},
   "outputs": [
    {
     "data": {
      "text/html": [
       "<style type=\"text/css\">\n",
       "#T_6ccce_row0_col0 {\n",
       "  background-color: gold;\n",
       "}\n",
       "</style>\n",
       "<table id=\"T_6ccce\">\n",
       "  <caption>Volitality report</caption>\n",
       "  <thead>\n",
       "    <tr>\n",
       "      <th class=\"blank level0\" >&nbsp;</th>\n",
       "      <th id=\"T_6ccce_level0_col0\" class=\"col_heading level0 col0\" >20% Bitcoin</th>\n",
       "      <th id=\"T_6ccce_level0_col1\" class=\"col_heading level0 col1\" >40% Bitcoin</th>\n",
       "      <th id=\"T_6ccce_level0_col2\" class=\"col_heading level0 col2\" >60% Bitcoin</th>\n",
       "      <th id=\"T_6ccce_level0_col3\" class=\"col_heading level0 col3\" >80% Bitcoin</th>\n",
       "    </tr>\n",
       "  </thead>\n",
       "  <tbody>\n",
       "    <tr>\n",
       "      <th id=\"T_6ccce_level0_row0\" class=\"row_heading level0 row0\" >20% SP500</th>\n",
       "      <td id=\"T_6ccce_row0_col0\" class=\"data row0 col0\" >0.053881</td>\n",
       "      <td id=\"T_6ccce_row0_col1\" class=\"data row0 col1\" >0.097706</td>\n",
       "      <td id=\"T_6ccce_row0_col2\" class=\"data row0 col2\" >0.144056</td>\n",
       "      <td id=\"T_6ccce_row0_col3\" class=\"data row0 col3\" >0.191102</td>\n",
       "    </tr>\n",
       "    <tr>\n",
       "      <th id=\"T_6ccce_level0_row1\" class=\"row_heading level0 row1\" >40% SP500</th>\n",
       "      <td id=\"T_6ccce_row1_col0\" class=\"data row1 col0\" >0.055376</td>\n",
       "      <td id=\"T_6ccce_row1_col1\" class=\"data row1 col1\" >0.100339</td>\n",
       "      <td id=\"T_6ccce_row1_col2\" class=\"data row1 col2\" >0.147077</td>\n",
       "      <td id=\"T_6ccce_row1_col3\" class=\"data row1 col3\" >nan</td>\n",
       "    </tr>\n",
       "    <tr>\n",
       "      <th id=\"T_6ccce_level0_row2\" class=\"row_heading level0 row2\" >60% SP500</th>\n",
       "      <td id=\"T_6ccce_row2_col0\" class=\"data row2 col0\" >0.059181</td>\n",
       "      <td id=\"T_6ccce_row2_col1\" class=\"data row2 col1\" >0.104221</td>\n",
       "      <td id=\"T_6ccce_row2_col2\" class=\"data row2 col2\" >nan</td>\n",
       "      <td id=\"T_6ccce_row2_col3\" class=\"data row2 col3\" >nan</td>\n",
       "    </tr>\n",
       "    <tr>\n",
       "      <th id=\"T_6ccce_level0_row3\" class=\"row_heading level0 row3\" >80% SP500</th>\n",
       "      <td id=\"T_6ccce_row3_col0\" class=\"data row3 col0\" >0.064891</td>\n",
       "      <td id=\"T_6ccce_row3_col1\" class=\"data row3 col1\" >nan</td>\n",
       "      <td id=\"T_6ccce_row3_col2\" class=\"data row3 col2\" >nan</td>\n",
       "      <td id=\"T_6ccce_row3_col3\" class=\"data row3 col3\" >nan</td>\n",
       "    </tr>\n",
       "  </tbody>\n",
       "</table>\n"
      ],
      "text/plain": [
       "<pandas.io.formats.style.Styler at 0x1e252c4bbb0>"
      ]
     },
     "metadata": {},
     "output_type": "display_data"
    },
    {
     "data": {
      "text/html": [
       "<style type=\"text/css\">\n",
       "#T_6b459_row0_col0 {\n",
       "  background-color: gold;\n",
       "}\n",
       "</style>\n",
       "<table id=\"T_6b459\">\n",
       "  <caption>Sortino report</caption>\n",
       "  <thead>\n",
       "    <tr>\n",
       "      <th class=\"blank level0\" >&nbsp;</th>\n",
       "      <th id=\"T_6b459_level0_col0\" class=\"col_heading level0 col0\" >20% bitcoin</th>\n",
       "      <th id=\"T_6b459_level0_col1\" class=\"col_heading level0 col1\" >40% bitcoin</th>\n",
       "      <th id=\"T_6b459_level0_col2\" class=\"col_heading level0 col2\" >60% bitcoin</th>\n",
       "      <th id=\"T_6b459_level0_col3\" class=\"col_heading level0 col3\" >80% bitcoin</th>\n",
       "    </tr>\n",
       "  </thead>\n",
       "  <tbody>\n",
       "    <tr>\n",
       "      <th id=\"T_6b459_level0_row0\" class=\"row_heading level0 row0\" >20% sp500</th>\n",
       "      <td id=\"T_6b459_row0_col0\" class=\"data row0 col0\" >1.096583</td>\n",
       "      <td id=\"T_6b459_row0_col1\" class=\"data row0 col1\" >0.954729</td>\n",
       "      <td id=\"T_6b459_row0_col2\" class=\"data row0 col2\" >0.900577</td>\n",
       "      <td id=\"T_6b459_row0_col3\" class=\"data row0 col3\" >0.854240</td>\n",
       "    </tr>\n",
       "    <tr>\n",
       "      <th id=\"T_6b459_level0_row1\" class=\"row_heading level0 row1\" >40% sp500</th>\n",
       "      <td id=\"T_6b459_row1_col0\" class=\"data row1 col0\" >1.024867</td>\n",
       "      <td id=\"T_6b459_row1_col1\" class=\"data row1 col1\" >0.968305</td>\n",
       "      <td id=\"T_6b459_row1_col2\" class=\"data row1 col2\" >0.859560</td>\n",
       "      <td id=\"T_6b459_row1_col3\" class=\"data row1 col3\" >nan</td>\n",
       "    </tr>\n",
       "    <tr>\n",
       "      <th id=\"T_6b459_level0_row2\" class=\"row_heading level0 row2\" >60% sp500</th>\n",
       "      <td id=\"T_6b459_row2_col0\" class=\"data row2 col0\" >0.877333</td>\n",
       "      <td id=\"T_6b459_row2_col1\" class=\"data row2 col1\" >0.881725</td>\n",
       "      <td id=\"T_6b459_row2_col2\" class=\"data row2 col2\" >nan</td>\n",
       "      <td id=\"T_6b459_row2_col3\" class=\"data row2 col3\" >nan</td>\n",
       "    </tr>\n",
       "    <tr>\n",
       "      <th id=\"T_6b459_level0_row3\" class=\"row_heading level0 row3\" >80% sp500</th>\n",
       "      <td id=\"T_6b459_row3_col0\" class=\"data row3 col0\" >0.730776</td>\n",
       "      <td id=\"T_6b459_row3_col1\" class=\"data row3 col1\" >nan</td>\n",
       "      <td id=\"T_6b459_row3_col2\" class=\"data row3 col2\" >nan</td>\n",
       "      <td id=\"T_6b459_row3_col3\" class=\"data row3 col3\" >nan</td>\n",
       "    </tr>\n",
       "  </tbody>\n",
       "</table>\n"
      ],
      "text/plain": [
       "<pandas.io.formats.style.Styler at 0x1e252c4bb20>"
      ]
     },
     "metadata": {},
     "output_type": "display_data"
    },
    {
     "data": {
      "text/html": [
       "<style type=\"text/css\">\n",
       "#T_2f532_row0_col0 {\n",
       "  background-color: gold;\n",
       "}\n",
       "</style>\n",
       "<table id=\"T_2f532\">\n",
       "  <caption>VaR at 90 percentile report</caption>\n",
       "  <thead>\n",
       "    <tr>\n",
       "      <th class=\"blank level0\" >&nbsp;</th>\n",
       "      <th id=\"T_2f532_level0_col0\" class=\"col_heading level0 col0\" >20% bitcoin</th>\n",
       "      <th id=\"T_2f532_level0_col1\" class=\"col_heading level0 col1\" >40% bitcoin</th>\n",
       "      <th id=\"T_2f532_level0_col2\" class=\"col_heading level0 col2\" >60% bitcoin</th>\n",
       "      <th id=\"T_2f532_level0_col3\" class=\"col_heading level0 col3\" >80% bitcoin</th>\n",
       "    </tr>\n",
       "  </thead>\n",
       "  <tbody>\n",
       "    <tr>\n",
       "      <th id=\"T_2f532_level0_row0\" class=\"row_heading level0 row0\" >20% sp500</th>\n",
       "      <td id=\"T_2f532_row0_col0\" class=\"data row0 col0\" >-0.043533</td>\n",
       "      <td id=\"T_2f532_row0_col1\" class=\"data row0 col1\" >-0.067770</td>\n",
       "      <td id=\"T_2f532_row0_col2\" class=\"data row0 col2\" >-0.102013</td>\n",
       "      <td id=\"T_2f532_row0_col3\" class=\"data row0 col3\" >-0.139887</td>\n",
       "    </tr>\n",
       "    <tr>\n",
       "      <th id=\"T_2f532_level0_row1\" class=\"row_heading level0 row1\" >40% sp500</th>\n",
       "      <td id=\"T_2f532_row1_col0\" class=\"data row1 col0\" >-0.043704</td>\n",
       "      <td id=\"T_2f532_row1_col1\" class=\"data row1 col1\" >-0.066070</td>\n",
       "      <td id=\"T_2f532_row1_col2\" class=\"data row1 col2\" >-0.102028</td>\n",
       "      <td id=\"T_2f532_row1_col3\" class=\"data row1 col3\" >nan</td>\n",
       "    </tr>\n",
       "    <tr>\n",
       "      <th id=\"T_2f532_level0_row2\" class=\"row_heading level0 row2\" >60% sp500</th>\n",
       "      <td id=\"T_2f532_row2_col0\" class=\"data row2 col0\" >-0.049801</td>\n",
       "      <td id=\"T_2f532_row2_col1\" class=\"data row2 col1\" >-0.078533</td>\n",
       "      <td id=\"T_2f532_row2_col2\" class=\"data row2 col2\" >nan</td>\n",
       "      <td id=\"T_2f532_row2_col3\" class=\"data row2 col3\" >nan</td>\n",
       "    </tr>\n",
       "    <tr>\n",
       "      <th id=\"T_2f532_level0_row3\" class=\"row_heading level0 row3\" >80% sp500</th>\n",
       "      <td id=\"T_2f532_row3_col0\" class=\"data row3 col0\" >-0.060850</td>\n",
       "      <td id=\"T_2f532_row3_col1\" class=\"data row3 col1\" >nan</td>\n",
       "      <td id=\"T_2f532_row3_col2\" class=\"data row3 col2\" >nan</td>\n",
       "      <td id=\"T_2f532_row3_col3\" class=\"data row3 col3\" >nan</td>\n",
       "    </tr>\n",
       "  </tbody>\n",
       "</table>\n"
      ],
      "text/plain": [
       "<pandas.io.formats.style.Styler at 0x1e252b3f1f0>"
      ]
     },
     "metadata": {},
     "output_type": "display_data"
    }
   ],
   "source": [
    "display(tt.create_volatility_rp('Bitcoin', 'SP500'), \n",
    "      tt.create_ratio_rp(sortino_ratio, 'bitcoin', 'sp500', 'Sortino'),\n",
    "      tt.create_var_rp(value_at_risk_single, 90, 'bitcoin', 'sp500', 'VaR'),\n",
    "      )"
   ]
  },
  {
   "cell_type": "markdown",
   "metadata": {},
   "source": [
    "### Test Efficient Frontier"
   ]
  },
  {
   "cell_type": "code",
   "execution_count": 18,
   "metadata": {},
   "outputs": [
    {
     "data": {
      "application/vnd.plotly.v1+json": {
       "config": {
        "plotlyServerURL": "https://plot.ly"
       },
       "data": [
        {
         "hovertext": [
          0,
          1,
          2,
          3,
          4,
          5,
          6,
          7,
          8,
          9,
          10,
          11,
          12,
          13,
          14,
          15,
          16,
          17,
          18,
          19,
          20,
          21,
          22,
          23,
          24,
          25,
          26,
          27,
          28,
          29,
          30,
          31,
          32,
          33,
          34,
          35,
          36,
          37,
          38,
          39,
          40,
          41,
          42,
          43,
          44,
          45,
          46,
          47,
          48,
          49,
          50,
          51,
          52,
          53,
          54,
          55,
          56,
          57,
          58,
          59,
          60,
          61,
          62,
          63,
          64,
          65,
          66,
          67,
          68,
          69,
          70,
          71,
          72,
          73,
          74,
          75,
          76,
          77,
          78,
          79,
          80,
          81,
          82,
          83,
          84,
          85,
          86,
          87,
          88,
          89,
          90,
          91,
          92,
          93,
          94,
          95,
          96,
          97,
          98,
          99
         ],
         "marker": {
          "color": [
           0.8377150709508134,
           0.5928304985171977,
           0.9739619457912241,
           0.9807182995716089,
           1.123265226833962,
           1.0410357969734274,
           0.9375978346209112,
           0.9734274425085968,
           0.9844536113975146,
           1.051882532148479,
           1.055226309815879,
           0.9517647782942986,
           0.9472875224930757,
           0.9478037667112451,
           1.0148090630529987,
           1.0371512270059486,
           1.047525719177039,
           1.052118470233225,
           0.9405168916149071,
           0.9906608409242255,
           1.0383310302348197,
           0.913586267922672,
           0.9997835965996761,
           0.8995415853847651,
           0.9257969332836504,
           0.813394704452528,
           0.9571322680537281,
           1.0380838856985006,
           1.0462325012710587,
           0.9446690336707242,
           0.8307575938177002,
           0.9059157978539655,
           0.9216721412087059,
           1.0566762449617297,
           0.7143003492811071,
           0.951403857384274,
           1.0360334329163228,
           0.9819638061766881,
           0.8872151149630237,
           1.0014397645556619,
           0.9941749315955879,
           0.923703053210539,
           1.055904619589095,
           1.0740588396548576,
           1.0019404301949308,
           1.1007839696264805,
           0.8411835467931182,
           1.1209746685651105,
           0.9500784546788914,
           0.9016599240332426,
           0.9160337962794919,
           0.9181825618529239,
           0.8951251277694279,
           0.9748413573917044,
           0.9233096985500703,
           0.9597001792258387,
           1.0035685154937806,
           0.9164846278920102,
           0.8867681554985302,
           0.946992767358051,
           0.9233200434270028,
           0.9612667280557866,
           0.8045717666443338,
           0.5629316704848274,
           0.9234435071820278,
           1.0040185055772994,
           1.0402567178529867,
           0.9071999257858351,
           0.890335093268192,
           0.5629347323487455,
           0.8578222111766253,
           0.7844095405888429,
           0.9466846688736087,
           0.9891574565491492,
           0.9067029891848793,
           0.9129518426855632,
           1.130912241502516,
           0.980877108995194,
           1.0520004313404419,
           0.4710338874884995,
           0.9555701968555095,
           1.0067024297573095,
           1.060224303076426,
           0.43327734215730934,
           0.9980670588465185,
           1.058681778120961,
           0.9279416875299982,
           0.9035761073670197,
           0.9724490312551111,
           1.0563394926052458,
           0.9194484450315892,
           0.9111811280312266,
           0.976304986589318,
           1.0740863717995224,
           0.9864194277401095,
           0.9063037195381347,
           0.7299478898326908,
           0.9542049867722155,
           0.9112055411934294,
           1.002600473209705
          ],
          "colorbar": {
           "title": {
            "text": "Sortino<br>Ratio"
           }
          },
          "colorscale": [
           [
            0,
            "rgb(103,0,31)"
           ],
           [
            0.1,
            "rgb(178,24,43)"
           ],
           [
            0.2,
            "rgb(214,96,77)"
           ],
           [
            0.3,
            "rgb(244,165,130)"
           ],
           [
            0.4,
            "rgb(253,219,199)"
           ],
           [
            0.5,
            "rgb(247,247,247)"
           ],
           [
            0.6,
            "rgb(209,229,240)"
           ],
           [
            0.7,
            "rgb(146,197,222)"
           ],
           [
            0.8,
            "rgb(67,147,195)"
           ],
           [
            0.9,
            "rgb(33,102,172)"
           ],
           [
            1,
            "rgb(5,48,97)"
           ]
          ],
          "line": {
           "width": 1
          },
          "showscale": true,
          "size": 7
         },
         "mode": "markers",
         "type": "scatter",
         "x": [
          0.02885676043081752,
          0.03973413311038486,
          0.06585497486493022,
          0.09344044619625907,
          0.047219932189920544,
          0.08388310339211211,
          0.11940095087122639,
          0.09500256461273307,
          0.10392818952208535,
          0.06073165944182463,
          0.06489357251665853,
          0.041086130115837546,
          0.11862363686867773,
          0.11056574387992626,
          0.08757372258400627,
          0.06080428378166288,
          0.08471672841927011,
          0.07276401253922045,
          0.05358153248015953,
          0.08562921465840335,
          0.08963194817236715,
          0.04941582179246641,
          0.0888426458587706,
          0.1605483988609004,
          0.12930144434786112,
          0.02649985897316301,
          0.11114939442526868,
          0.05341662338222494,
          0.08903170586462911,
          0.08224930388786367,
          0.0507297128110626,
          0.10480968343978493,
          0.14045365271577623,
          0.06162290579936124,
          0.033866017468221536,
          0.116168922437605,
          0.03472008668352908,
          0.10514030435034791,
          0.1379877437064299,
          0.09723513756132757,
          0.10041260789626354,
          0.11722848756032114,
          0.08449673843904909,
          0.07186321744972211,
          0.09300680973420455,
          0.05762952992106348,
          0.04447660641848188,
          0.04993116297266178,
          0.10824857145041529,
          0.15713811871342034,
          0.11807678267980004,
          0.12351621515732779,
          0.14617119360617858,
          0.07167218579055126,
          0.04877342376212698,
          0.09931557587749183,
          0.08108466156445543,
          0.12116983636862297,
          0.16134636757285706,
          0.11223987335033316,
          0.12173989919134127,
          0.10211424483852367,
          0.032618874376737245,
          0.034451487986288734,
          0.1148972432589956,
          0.08808916010796604,
          0.07359088773127803,
          0.12463382725266811,
          0.1574182357804722,
          0.036800100954289705,
          0.21743788860300475,
          0.030289842717326782,
          0.11407578534891549,
          0.09595323576334389,
          0.12461346320933944,
          0.12738448885586207,
          0.05096815292496019,
          0.10291312392376674,
          0.06461154627492159,
          0.04050532900151069,
          0.11136811921462464,
          0.06306221183722815,
          0.08322067951324952,
          0.040835688340868447,
          0.09280095674364093,
          0.08052151631900742,
          0.13376108819777005,
          0.12056011556802261,
          0.09542124878793593,
          0.053605388930027024,
          0.0999844245473335,
          0.14975765424949591,
          0.09289766257107773,
          0.07346787490273843,
          0.09102928418674248,
          0.11575713448474423,
          0.027519053600313297,
          0.07349958839407912,
          0.057423833555168766,
          0.08145788343665916
         ],
         "y": [
          0.010386776206746311,
          0.015711205484875805,
          0.027360078851886217,
          0.036444864059686596,
          0.019732627961923006,
          0.033788219424501824,
          0.04618305414657563,
          0.037392370050098156,
          0.04090732638186711,
          0.025533230217325443,
          0.027013258957178658,
          0.017862133347315463,
          0.0457389907290414,
          0.043136565313727455,
          0.03504073593225537,
          0.025545503045535198,
          0.034178619390241846,
          0.02950758856830178,
          0.022782545134593418,
          0.03448559793406919,
          0.03589936689054289,
          0.02113519173762402,
          0.035409996828935156,
          0.060264980140868264,
          0.04958854029659705,
          0.009831744946083158,
          0.04297023602498815,
          0.022780098902902328,
          0.035651504269465804,
          0.033216765569849566,
          0.02139155452063691,
          0.04113549788465093,
          0.05302474172838549,
          0.025827769790622082,
          0.010919705524862692,
          0.04474361972226135,
          0.014435538691857841,
          0.04132918297180121,
          0.052693059662313364,
          0.03855713242873014,
          0.039670404793414396,
          0.045541895382899086,
          0.03407608851473615,
          0.02960018015879728,
          0.037104467323223034,
          0.023887300564917616,
          0.019014438455900295,
          0.021221102832022987,
          0.04222557021863056,
          0.05911117590919958,
          0.04583844905107519,
          0.04768710277993753,
          0.05543675783061768,
          0.029476509056981882,
          0.020909902736545364,
          0.03930619697418768,
          0.03209611354519118,
          0.04690655225023382,
          0.06027531326352586,
          0.04350915270845143,
          0.04709310645023883,
          0.03998300139363014,
          0.013832301512788305,
          0.013224324567860596,
          0.04473055665700934,
          0.03538317956363565,
          0.03022612198184023,
          0.048097242636015024,
          0.059319725548879126,
          0.01423797236055011,
          0.07964998054312933,
          0.012553311006009062,
          0.04445260450881371,
          0.03814490645623941,
          0.04809095337302998,
          0.049019059188282324,
          0.021206745934912025,
          0.040569234602828644,
          0.02692211604050449,
          0.013914918246720104,
          0.043491548682015095,
          0.025013747243406013,
          0.033620944806375515,
          0.013202070581559701,
          0.03694156113437874,
          0.03269164533117948,
          0.050659236364066426,
          0.04665767999352566,
          0.03795210861380962,
          0.022820912924818658,
          0.03948394573223583,
          0.05647908725345653,
          0.03706698978202845,
          0.030173568431964393,
          0.0364166990091431,
          0.04498653046285274,
          0.009242966277417282,
          0.030092088438436526,
          0.024145023319298166,
          0.03301324619931878
         ]
        },
        {
         "customdata": [
          [
           76
          ]
         ],
         "hovertemplate": "volatility=%{x}<br>mean=%{y}<br>index_col=%{customdata[0]}<extra></extra>",
         "legendgroup": "",
         "marker": {
          "color": "yellow",
          "size": 20,
          "symbol": "circle"
         },
         "mode": "markers",
         "name": "",
         "orientation": "v",
         "showlegend": false,
         "type": "scatter",
         "x": [
          0.05096815292496019
         ],
         "xaxis": "x",
         "y": [
          0.021206745934912025
         ],
         "yaxis": "y"
        }
       ],
       "layout": {
        "coloraxis": {
         "colorbar": {
          "title": {
           "text": "Sortino Ratio"
          }
         }
        },
        "showlegend": false,
        "template": {
         "data": {
          "bar": [
           {
            "error_x": {
             "color": "#2a3f5f"
            },
            "error_y": {
             "color": "#2a3f5f"
            },
            "marker": {
             "line": {
              "color": "white",
              "width": 0.5
             },
             "pattern": {
              "fillmode": "overlay",
              "size": 10,
              "solidity": 0.2
             }
            },
            "type": "bar"
           }
          ],
          "barpolar": [
           {
            "marker": {
             "line": {
              "color": "white",
              "width": 0.5
             },
             "pattern": {
              "fillmode": "overlay",
              "size": 10,
              "solidity": 0.2
             }
            },
            "type": "barpolar"
           }
          ],
          "carpet": [
           {
            "aaxis": {
             "endlinecolor": "#2a3f5f",
             "gridcolor": "#C8D4E3",
             "linecolor": "#C8D4E3",
             "minorgridcolor": "#C8D4E3",
             "startlinecolor": "#2a3f5f"
            },
            "baxis": {
             "endlinecolor": "#2a3f5f",
             "gridcolor": "#C8D4E3",
             "linecolor": "#C8D4E3",
             "minorgridcolor": "#C8D4E3",
             "startlinecolor": "#2a3f5f"
            },
            "type": "carpet"
           }
          ],
          "choropleth": [
           {
            "colorbar": {
             "outlinewidth": 0,
             "ticks": ""
            },
            "type": "choropleth"
           }
          ],
          "contour": [
           {
            "colorbar": {
             "outlinewidth": 0,
             "ticks": ""
            },
            "colorscale": [
             [
              0,
              "#0d0887"
             ],
             [
              0.1111111111111111,
              "#46039f"
             ],
             [
              0.2222222222222222,
              "#7201a8"
             ],
             [
              0.3333333333333333,
              "#9c179e"
             ],
             [
              0.4444444444444444,
              "#bd3786"
             ],
             [
              0.5555555555555556,
              "#d8576b"
             ],
             [
              0.6666666666666666,
              "#ed7953"
             ],
             [
              0.7777777777777778,
              "#fb9f3a"
             ],
             [
              0.8888888888888888,
              "#fdca26"
             ],
             [
              1,
              "#f0f921"
             ]
            ],
            "type": "contour"
           }
          ],
          "contourcarpet": [
           {
            "colorbar": {
             "outlinewidth": 0,
             "ticks": ""
            },
            "type": "contourcarpet"
           }
          ],
          "heatmap": [
           {
            "colorbar": {
             "outlinewidth": 0,
             "ticks": ""
            },
            "colorscale": [
             [
              0,
              "#0d0887"
             ],
             [
              0.1111111111111111,
              "#46039f"
             ],
             [
              0.2222222222222222,
              "#7201a8"
             ],
             [
              0.3333333333333333,
              "#9c179e"
             ],
             [
              0.4444444444444444,
              "#bd3786"
             ],
             [
              0.5555555555555556,
              "#d8576b"
             ],
             [
              0.6666666666666666,
              "#ed7953"
             ],
             [
              0.7777777777777778,
              "#fb9f3a"
             ],
             [
              0.8888888888888888,
              "#fdca26"
             ],
             [
              1,
              "#f0f921"
             ]
            ],
            "type": "heatmap"
           }
          ],
          "heatmapgl": [
           {
            "colorbar": {
             "outlinewidth": 0,
             "ticks": ""
            },
            "colorscale": [
             [
              0,
              "#0d0887"
             ],
             [
              0.1111111111111111,
              "#46039f"
             ],
             [
              0.2222222222222222,
              "#7201a8"
             ],
             [
              0.3333333333333333,
              "#9c179e"
             ],
             [
              0.4444444444444444,
              "#bd3786"
             ],
             [
              0.5555555555555556,
              "#d8576b"
             ],
             [
              0.6666666666666666,
              "#ed7953"
             ],
             [
              0.7777777777777778,
              "#fb9f3a"
             ],
             [
              0.8888888888888888,
              "#fdca26"
             ],
             [
              1,
              "#f0f921"
             ]
            ],
            "type": "heatmapgl"
           }
          ],
          "histogram": [
           {
            "marker": {
             "pattern": {
              "fillmode": "overlay",
              "size": 10,
              "solidity": 0.2
             }
            },
            "type": "histogram"
           }
          ],
          "histogram2d": [
           {
            "colorbar": {
             "outlinewidth": 0,
             "ticks": ""
            },
            "colorscale": [
             [
              0,
              "#0d0887"
             ],
             [
              0.1111111111111111,
              "#46039f"
             ],
             [
              0.2222222222222222,
              "#7201a8"
             ],
             [
              0.3333333333333333,
              "#9c179e"
             ],
             [
              0.4444444444444444,
              "#bd3786"
             ],
             [
              0.5555555555555556,
              "#d8576b"
             ],
             [
              0.6666666666666666,
              "#ed7953"
             ],
             [
              0.7777777777777778,
              "#fb9f3a"
             ],
             [
              0.8888888888888888,
              "#fdca26"
             ],
             [
              1,
              "#f0f921"
             ]
            ],
            "type": "histogram2d"
           }
          ],
          "histogram2dcontour": [
           {
            "colorbar": {
             "outlinewidth": 0,
             "ticks": ""
            },
            "colorscale": [
             [
              0,
              "#0d0887"
             ],
             [
              0.1111111111111111,
              "#46039f"
             ],
             [
              0.2222222222222222,
              "#7201a8"
             ],
             [
              0.3333333333333333,
              "#9c179e"
             ],
             [
              0.4444444444444444,
              "#bd3786"
             ],
             [
              0.5555555555555556,
              "#d8576b"
             ],
             [
              0.6666666666666666,
              "#ed7953"
             ],
             [
              0.7777777777777778,
              "#fb9f3a"
             ],
             [
              0.8888888888888888,
              "#fdca26"
             ],
             [
              1,
              "#f0f921"
             ]
            ],
            "type": "histogram2dcontour"
           }
          ],
          "mesh3d": [
           {
            "colorbar": {
             "outlinewidth": 0,
             "ticks": ""
            },
            "type": "mesh3d"
           }
          ],
          "parcoords": [
           {
            "line": {
             "colorbar": {
              "outlinewidth": 0,
              "ticks": ""
             }
            },
            "type": "parcoords"
           }
          ],
          "pie": [
           {
            "automargin": true,
            "type": "pie"
           }
          ],
          "scatter": [
           {
            "fillpattern": {
             "fillmode": "overlay",
             "size": 10,
             "solidity": 0.2
            },
            "type": "scatter"
           }
          ],
          "scatter3d": [
           {
            "line": {
             "colorbar": {
              "outlinewidth": 0,
              "ticks": ""
             }
            },
            "marker": {
             "colorbar": {
              "outlinewidth": 0,
              "ticks": ""
             }
            },
            "type": "scatter3d"
           }
          ],
          "scattercarpet": [
           {
            "marker": {
             "colorbar": {
              "outlinewidth": 0,
              "ticks": ""
             }
            },
            "type": "scattercarpet"
           }
          ],
          "scattergeo": [
           {
            "marker": {
             "colorbar": {
              "outlinewidth": 0,
              "ticks": ""
             }
            },
            "type": "scattergeo"
           }
          ],
          "scattergl": [
           {
            "marker": {
             "colorbar": {
              "outlinewidth": 0,
              "ticks": ""
             }
            },
            "type": "scattergl"
           }
          ],
          "scattermapbox": [
           {
            "marker": {
             "colorbar": {
              "outlinewidth": 0,
              "ticks": ""
             }
            },
            "type": "scattermapbox"
           }
          ],
          "scatterpolar": [
           {
            "marker": {
             "colorbar": {
              "outlinewidth": 0,
              "ticks": ""
             }
            },
            "type": "scatterpolar"
           }
          ],
          "scatterpolargl": [
           {
            "marker": {
             "colorbar": {
              "outlinewidth": 0,
              "ticks": ""
             }
            },
            "type": "scatterpolargl"
           }
          ],
          "scatterternary": [
           {
            "marker": {
             "colorbar": {
              "outlinewidth": 0,
              "ticks": ""
             }
            },
            "type": "scatterternary"
           }
          ],
          "surface": [
           {
            "colorbar": {
             "outlinewidth": 0,
             "ticks": ""
            },
            "colorscale": [
             [
              0,
              "#0d0887"
             ],
             [
              0.1111111111111111,
              "#46039f"
             ],
             [
              0.2222222222222222,
              "#7201a8"
             ],
             [
              0.3333333333333333,
              "#9c179e"
             ],
             [
              0.4444444444444444,
              "#bd3786"
             ],
             [
              0.5555555555555556,
              "#d8576b"
             ],
             [
              0.6666666666666666,
              "#ed7953"
             ],
             [
              0.7777777777777778,
              "#fb9f3a"
             ],
             [
              0.8888888888888888,
              "#fdca26"
             ],
             [
              1,
              "#f0f921"
             ]
            ],
            "type": "surface"
           }
          ],
          "table": [
           {
            "cells": {
             "fill": {
              "color": "#EBF0F8"
             },
             "line": {
              "color": "white"
             }
            },
            "header": {
             "fill": {
              "color": "#C8D4E3"
             },
             "line": {
              "color": "white"
             }
            },
            "type": "table"
           }
          ]
         },
         "layout": {
          "annotationdefaults": {
           "arrowcolor": "#2a3f5f",
           "arrowhead": 0,
           "arrowwidth": 1
          },
          "autotypenumbers": "strict",
          "coloraxis": {
           "colorbar": {
            "outlinewidth": 0,
            "ticks": ""
           }
          },
          "colorscale": {
           "diverging": [
            [
             0,
             "#8e0152"
            ],
            [
             0.1,
             "#c51b7d"
            ],
            [
             0.2,
             "#de77ae"
            ],
            [
             0.3,
             "#f1b6da"
            ],
            [
             0.4,
             "#fde0ef"
            ],
            [
             0.5,
             "#f7f7f7"
            ],
            [
             0.6,
             "#e6f5d0"
            ],
            [
             0.7,
             "#b8e186"
            ],
            [
             0.8,
             "#7fbc41"
            ],
            [
             0.9,
             "#4d9221"
            ],
            [
             1,
             "#276419"
            ]
           ],
           "sequential": [
            [
             0,
             "#0d0887"
            ],
            [
             0.1111111111111111,
             "#46039f"
            ],
            [
             0.2222222222222222,
             "#7201a8"
            ],
            [
             0.3333333333333333,
             "#9c179e"
            ],
            [
             0.4444444444444444,
             "#bd3786"
            ],
            [
             0.5555555555555556,
             "#d8576b"
            ],
            [
             0.6666666666666666,
             "#ed7953"
            ],
            [
             0.7777777777777778,
             "#fb9f3a"
            ],
            [
             0.8888888888888888,
             "#fdca26"
            ],
            [
             1,
             "#f0f921"
            ]
           ],
           "sequentialminus": [
            [
             0,
             "#0d0887"
            ],
            [
             0.1111111111111111,
             "#46039f"
            ],
            [
             0.2222222222222222,
             "#7201a8"
            ],
            [
             0.3333333333333333,
             "#9c179e"
            ],
            [
             0.4444444444444444,
             "#bd3786"
            ],
            [
             0.5555555555555556,
             "#d8576b"
            ],
            [
             0.6666666666666666,
             "#ed7953"
            ],
            [
             0.7777777777777778,
             "#fb9f3a"
            ],
            [
             0.8888888888888888,
             "#fdca26"
            ],
            [
             1,
             "#f0f921"
            ]
           ]
          },
          "colorway": [
           "#636efa",
           "#EF553B",
           "#00cc96",
           "#ab63fa",
           "#FFA15A",
           "#19d3f3",
           "#FF6692",
           "#B6E880",
           "#FF97FF",
           "#FECB52"
          ],
          "font": {
           "color": "#2a3f5f"
          },
          "geo": {
           "bgcolor": "white",
           "lakecolor": "white",
           "landcolor": "white",
           "showlakes": true,
           "showland": true,
           "subunitcolor": "#C8D4E3"
          },
          "hoverlabel": {
           "align": "left"
          },
          "hovermode": "closest",
          "mapbox": {
           "style": "light"
          },
          "paper_bgcolor": "white",
          "plot_bgcolor": "white",
          "polar": {
           "angularaxis": {
            "gridcolor": "#EBF0F8",
            "linecolor": "#EBF0F8",
            "ticks": ""
           },
           "bgcolor": "white",
           "radialaxis": {
            "gridcolor": "#EBF0F8",
            "linecolor": "#EBF0F8",
            "ticks": ""
           }
          },
          "scene": {
           "xaxis": {
            "backgroundcolor": "white",
            "gridcolor": "#DFE8F3",
            "gridwidth": 2,
            "linecolor": "#EBF0F8",
            "showbackground": true,
            "ticks": "",
            "zerolinecolor": "#EBF0F8"
           },
           "yaxis": {
            "backgroundcolor": "white",
            "gridcolor": "#DFE8F3",
            "gridwidth": 2,
            "linecolor": "#EBF0F8",
            "showbackground": true,
            "ticks": "",
            "zerolinecolor": "#EBF0F8"
           },
           "zaxis": {
            "backgroundcolor": "white",
            "gridcolor": "#DFE8F3",
            "gridwidth": 2,
            "linecolor": "#EBF0F8",
            "showbackground": true,
            "ticks": "",
            "zerolinecolor": "#EBF0F8"
           }
          },
          "shapedefaults": {
           "line": {
            "color": "#2a3f5f"
           }
          },
          "ternary": {
           "aaxis": {
            "gridcolor": "#DFE8F3",
            "linecolor": "#A2B1C6",
            "ticks": ""
           },
           "baxis": {
            "gridcolor": "#DFE8F3",
            "linecolor": "#A2B1C6",
            "ticks": ""
           },
           "bgcolor": "white",
           "caxis": {
            "gridcolor": "#DFE8F3",
            "linecolor": "#A2B1C6",
            "ticks": ""
           }
          },
          "title": {
           "x": 0.05
          },
          "xaxis": {
           "automargin": true,
           "gridcolor": "#EBF0F8",
           "linecolor": "#EBF0F8",
           "ticks": "",
           "title": {
            "standoff": 15
           },
           "zerolinecolor": "#EBF0F8",
           "zerolinewidth": 2
          },
          "yaxis": {
           "automargin": true,
           "gridcolor": "#EBF0F8",
           "linecolor": "#EBF0F8",
           "ticks": "",
           "title": {
            "standoff": 15
           },
           "zerolinecolor": "#EBF0F8",
           "zerolinewidth": 2
          }
         }
        },
        "title": {
         "text": "Sample of Random Portfolios"
        },
        "xaxis": {
         "title": {
          "text": "Annualised Risk (Volatility)"
         }
        },
        "yaxis": {
         "title": {
          "text": "Annualised Return"
         }
        }
       }
      }
     },
     "metadata": {},
     "output_type": "display_data"
    }
   ],
   "source": [
    "efficient = SimulateEfficientFrontier(portfolio_data, 100)()\n",
    "\n",
    "\n",
    "DE = DrawEfficientFrontier(efficient, 'volatility', 'mean', 'sortino ratio', 'index_col')\n",
    "DE('Annualised Risk (Volatility)', 'Annualised Return').show()"
   ]
  }
 ],
 "metadata": {
  "kernelspec": {
   "display_name": "Python 3.8.7 ('myvenv': venv)",
   "language": "python",
   "name": "python3"
  },
  "language_info": {
   "codemirror_mode": {
    "name": "ipython",
    "version": 3
   },
   "file_extension": ".py",
   "mimetype": "text/x-python",
   "name": "python",
   "nbconvert_exporter": "python",
   "pygments_lexer": "ipython3",
   "version": "3.8.7"
  },
  "orig_nbformat": 4,
  "vscode": {
   "interpreter": {
    "hash": "6dfd8ce60c8ee5a74226a0c72ba5d9e4d1fbd2368b646eed240a156fcacd1b3c"
   }
  }
 },
 "nbformat": 4,
 "nbformat_minor": 2
}
